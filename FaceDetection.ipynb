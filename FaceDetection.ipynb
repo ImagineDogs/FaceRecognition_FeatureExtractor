{
 "cells": [
  {
   "cell_type": "code",
   "execution_count": 1,
   "metadata": {},
   "outputs": [],
   "source": [
    "from ultralytics import YOLO\n",
    "import numpy as np"
   ]
  },
  {
   "cell_type": "code",
   "execution_count": 13,
   "metadata": {},
   "outputs": [
    {
     "data": {
      "text/plain": [
       "True"
      ]
     },
     "execution_count": 13,
     "metadata": {},
     "output_type": "execute_result"
    }
   ],
   "source": [
    "import torch\n",
    "torch.cuda.is_available()"
   ]
  },
  {
   "cell_type": "code",
   "execution_count": 15,
   "metadata": {},
   "outputs": [
    {
     "name": "stdout",
     "output_type": "stream",
     "text": [
      "Ultralytics YOLOv8.0.227 🚀 Python-3.11.6 torch-2.1.1+cu121 CUDA:0 (NVIDIA GeForce GTX 1660 SUPER, 6144MiB)\n",
      "\u001b[34m\u001b[1mengine\\trainer: \u001b[0mtask=detect, mode=train, model=yolov8s.pt, data=face_detection.yaml, epochs=100, patience=10, batch=16, imgsz=640, save=True, save_period=-1, cache=False, device=None, workers=8, project=None, name=FacialDetection2, exist_ok=False, pretrained=True, optimizer=Adam, verbose=True, seed=42, deterministic=True, single_cls=True, rect=True, cos_lr=False, close_mosaic=10, resume=False, amp=False, fraction=1.0, profile=False, freeze=None, overlap_mask=True, mask_ratio=4, dropout=0.0, val=True, split=val, save_json=False, save_hybrid=False, conf=None, iou=0.7, max_det=300, half=False, dnn=False, plots=True, source=None, vid_stride=1, stream_buffer=False, visualize=False, augment=False, agnostic_nms=False, classes=None, retina_masks=False, show=False, save_frames=False, save_txt=False, save_conf=False, save_crop=False, show_labels=True, show_conf=True, show_boxes=True, line_width=None, format=torchscript, keras=False, optimize=False, int8=False, dynamic=False, simplify=False, opset=None, workspace=4, nms=False, lr0=0.02, lrf=0.005, momentum=0.937, weight_decay=0.0005, warmup_epochs=3.0, warmup_momentum=0.8, warmup_bias_lr=0.1, box=7.5, cls=0.5, dfl=1.5, pose=12.0, kobj=1.0, label_smoothing=0.0, nbs=64, hsv_h=0.015, hsv_s=0.7, hsv_v=0.4, degrees=0.0, translate=0.1, scale=0.5, shear=0.0, perspective=0.0, flipud=0.0, fliplr=0.5, mosaic=1.0, mixup=0.0, copy_paste=0.0, cfg=None, tracker=botsort.yaml, save_dir=runs\\detect\\FacialDetection2\n",
      "Downloading https://ultralytics.com/assets/Arial.ttf to 'C:\\Users\\pedro\\AppData\\Roaming\\Ultralytics\\Arial.ttf'...\n"
     ]
    },
    {
     "name": "stderr",
     "output_type": "stream",
     "text": [
      "100%|██████████| 755k/755k [00:00<00:00, 15.0MB/s]"
     ]
    },
    {
     "name": "stdout",
     "output_type": "stream",
     "text": [
      "Overriding model.yaml nc=80 with nc=1\n",
      "\n",
      "                   from  n    params  module                                       arguments                     \n",
      "  0                  -1  1       928  ultralytics.nn.modules.conv.Conv             [3, 32, 3, 2]                 \n",
      "  1                  -1  1     18560  ultralytics.nn.modules.conv.Conv             [32, 64, 3, 2]                \n",
      "  2                  -1  1     29056  ultralytics.nn.modules.block.C2f             [64, 64, 1, True]             \n",
      "  3                  -1  1     73984  ultralytics.nn.modules.conv.Conv             [64, 128, 3, 2]               \n",
      "  4                  -1  2    197632  ultralytics.nn.modules.block.C2f             [128, 128, 2, True]           \n",
      "  5                  -1  1    295424  ultralytics.nn.modules.conv.Conv             [128, 256, 3, 2]              \n",
      "  6                  -1  2    788480  ultralytics.nn.modules.block.C2f             [256, 256, 2, True]           \n",
      "  7                  -1  1   1180672  ultralytics.nn.modules.conv.Conv             [256, 512, 3, 2]              \n",
      "  8                  -1  1   1838080  ultralytics.nn.modules.block.C2f             [512, 512, 1, True]           \n",
      "  9                  -1  1    656896  ultralytics.nn.modules.block.SPPF            [512, 512, 5]                 \n",
      " 10                  -1  1         0  torch.nn.modules.upsampling.Upsample         [None, 2, 'nearest']          \n",
      " 11             [-1, 6]  1         0  ultralytics.nn.modules.conv.Concat           [1]                           \n",
      " 12                  -1  1    591360  ultralytics.nn.modules.block.C2f             [768, 256, 1]                 \n",
      " 13                  -1  1         0  torch.nn.modules.upsampling.Upsample         [None, 2, 'nearest']          \n",
      " 14             [-1, 4]  1         0  ultralytics.nn.modules.conv.Concat           [1]                           \n",
      " 15                  -1  1    148224  ultralytics.nn.modules.block.C2f             [384, 128, 1]                 \n",
      " 16                  -1  1    147712  ultralytics.nn.modules.conv.Conv             [128, 128, 3, 2]              \n",
      " 17            [-1, 12]  1         0  ultralytics.nn.modules.conv.Concat           [1]                           \n",
      " 18                  -1  1    493056  ultralytics.nn.modules.block.C2f             [384, 256, 1]                 \n",
      " 19                  -1  1    590336  ultralytics.nn.modules.conv.Conv             [256, 256, 3, 2]              \n",
      " 20             [-1, 9]  1         0  ultralytics.nn.modules.conv.Concat           [1]                           \n",
      " 21                  -1  1   1969152  ultralytics.nn.modules.block.C2f             [768, 512, 1]                 \n",
      " 22        [15, 18, 21]  1   2116435  ultralytics.nn.modules.head.Detect           [1, [128, 256, 512]]          \n"
     ]
    },
    {
     "name": "stderr",
     "output_type": "stream",
     "text": [
      "\n"
     ]
    },
    {
     "name": "stdout",
     "output_type": "stream",
     "text": [
      "Model summary: 225 layers, 11135987 parameters, 11135971 gradients, 28.6 GFLOPs\n",
      "\n",
      "Transferred 349/355 items from pretrained weights\n",
      "Freezing layer 'model.22.dfl.conv.weight'\n"
     ]
    },
    {
     "name": "stderr",
     "output_type": "stream",
     "text": [
      "\u001b[34m\u001b[1mtrain: \u001b[0mScanning D:\\GitHub\\FaceRecognition_FeatureExtractor\\datasets\\data\\labels\\train... 2007 images, 1 backgrounds, 0 corrupt: 100%|██████████| 2008/2008 [00:03<00:00, 526.80it/s]\n"
     ]
    },
    {
     "name": "stdout",
     "output_type": "stream",
     "text": [
      "\u001b[34m\u001b[1mtrain: \u001b[0mNew cache created: D:\\GitHub\\FaceRecognition_FeatureExtractor\\datasets\\data\\labels\\train.cache\n",
      "WARNING ⚠️ 'rect=True' is incompatible with DataLoader shuffle, setting shuffle=False\n"
     ]
    },
    {
     "name": "stderr",
     "output_type": "stream",
     "text": [
      "\u001b[34m\u001b[1mval: \u001b[0mScanning D:\\GitHub\\FaceRecognition_FeatureExtractor\\datasets\\data\\labels\\val... 196 images, 0 backgrounds, 0 corrupt: 100%|██████████| 196/196 [00:00<00:00, 208.00it/s]"
     ]
    },
    {
     "name": "stdout",
     "output_type": "stream",
     "text": [
      "\u001b[34m\u001b[1mval: \u001b[0mNew cache created: D:\\GitHub\\FaceRecognition_FeatureExtractor\\datasets\\data\\labels\\val.cache\n"
     ]
    },
    {
     "name": "stderr",
     "output_type": "stream",
     "text": [
      "\n"
     ]
    },
    {
     "name": "stdout",
     "output_type": "stream",
     "text": [
      "Plotting labels to runs\\detect\\FacialDetection2\\labels.jpg... \n",
      "\u001b[34m\u001b[1moptimizer:\u001b[0m Adam(lr=0.02, momentum=0.937) with parameter groups 57 weight(decay=0.0), 64 weight(decay=0.0005), 63 bias(decay=0.0)\n",
      "Image sizes 640 train, 640 val\n",
      "Using 8 dataloader workers\n",
      "Logging results to \u001b[1mruns\\detect\\FacialDetection2\u001b[0m\n",
      "Starting training for 100 epochs...\n",
      "\n",
      "      Epoch    GPU_mem   box_loss   cls_loss   dfl_loss  Instances       Size\n"
     ]
    },
    {
     "name": "stderr",
     "output_type": "stream",
     "text": [
      "      1/100      12.1G       1.79      1.921      1.987          9        416: 100%|██████████| 126/126 [01:53<00:00,  1.11it/s]\n",
      "                 Class     Images  Instances      Box(P          R      mAP50  mAP50-95): 100%|██████████| 7/7 [00:07<00:00,  1.03s/it]"
     ]
    },
    {
     "name": "stdout",
     "output_type": "stream",
     "text": [
      "                   all        196        262          0          0          0          0\n"
     ]
    },
    {
     "name": "stderr",
     "output_type": "stream",
     "text": [
      "\n"
     ]
    },
    {
     "name": "stdout",
     "output_type": "stream",
     "text": [
      "\n",
      "      Epoch    GPU_mem   box_loss   cls_loss   dfl_loss  Instances       Size\n"
     ]
    },
    {
     "name": "stderr",
     "output_type": "stream",
     "text": [
      "      2/100      12.2G      1.977      1.624      2.287          9        416: 100%|██████████| 126/126 [02:00<00:00,  1.04it/s]\n",
      "                 Class     Images  Instances      Box(P          R      mAP50  mAP50-95): 100%|██████████| 7/7 [00:07<00:00,  1.09s/it]"
     ]
    },
    {
     "name": "stdout",
     "output_type": "stream",
     "text": [
      "                   all        196        262     0.0726       0.13     0.0212    0.00783\n"
     ]
    },
    {
     "name": "stderr",
     "output_type": "stream",
     "text": [
      "\n"
     ]
    },
    {
     "name": "stdout",
     "output_type": "stream",
     "text": [
      "\n",
      "      Epoch    GPU_mem   box_loss   cls_loss   dfl_loss  Instances       Size\n"
     ]
    },
    {
     "name": "stderr",
     "output_type": "stream",
     "text": [
      "      3/100      12.2G      2.151      1.661      2.514          9        416: 100%|██████████| 126/126 [02:04<00:00,  1.01it/s]\n",
      "                 Class     Images  Instances      Box(P          R      mAP50  mAP50-95): 100%|██████████| 7/7 [00:07<00:00,  1.10s/it]"
     ]
    },
    {
     "name": "stdout",
     "output_type": "stream",
     "text": [
      "                   all        196        262    0.00139      0.118   0.000601   0.000188\n"
     ]
    },
    {
     "name": "stderr",
     "output_type": "stream",
     "text": [
      "\n"
     ]
    },
    {
     "name": "stdout",
     "output_type": "stream",
     "text": [
      "\n",
      "      Epoch    GPU_mem   box_loss   cls_loss   dfl_loss  Instances       Size\n"
     ]
    },
    {
     "name": "stderr",
     "output_type": "stream",
     "text": [
      "      4/100      12.1G      2.136      1.695      2.541          8        416: 100%|██████████| 126/126 [02:13<00:00,  1.06s/it]\n",
      "                 Class     Images  Instances      Box(P          R      mAP50  mAP50-95): 100%|██████████| 7/7 [00:07<00:00,  1.06s/it]"
     ]
    },
    {
     "name": "stdout",
     "output_type": "stream",
     "text": [
      "                   all        196        262      0.198      0.187     0.0741     0.0302\n"
     ]
    },
    {
     "name": "stderr",
     "output_type": "stream",
     "text": [
      "\n"
     ]
    },
    {
     "name": "stdout",
     "output_type": "stream",
     "text": [
      "\n",
      "      Epoch    GPU_mem   box_loss   cls_loss   dfl_loss  Instances       Size\n"
     ]
    },
    {
     "name": "stderr",
     "output_type": "stream",
     "text": [
      "      5/100      11.8G      2.176      1.809      2.591          9        416: 100%|██████████| 126/126 [01:43<00:00,  1.21it/s]\n",
      "                 Class     Images  Instances      Box(P          R      mAP50  mAP50-95): 100%|██████████| 7/7 [00:07<00:00,  1.11s/it]"
     ]
    },
    {
     "name": "stdout",
     "output_type": "stream",
     "text": [
      "                   all        196        262      0.219     0.0954     0.0491     0.0132\n"
     ]
    },
    {
     "name": "stderr",
     "output_type": "stream",
     "text": [
      "\n"
     ]
    },
    {
     "name": "stdout",
     "output_type": "stream",
     "text": [
      "\n",
      "      Epoch    GPU_mem   box_loss   cls_loss   dfl_loss  Instances       Size\n"
     ]
    },
    {
     "name": "stderr",
     "output_type": "stream",
     "text": [
      "      6/100      11.9G      2.168      1.656      2.656          9        416: 100%|██████████| 126/126 [01:48<00:00,  1.16it/s]\n",
      "                 Class     Images  Instances      Box(P          R      mAP50  mAP50-95): 100%|██████████| 7/7 [00:07<00:00,  1.07s/it]"
     ]
    },
    {
     "name": "stdout",
     "output_type": "stream",
     "text": [
      "                   all        196        262      0.339      0.214      0.144     0.0535\n"
     ]
    },
    {
     "name": "stderr",
     "output_type": "stream",
     "text": [
      "\n"
     ]
    },
    {
     "name": "stdout",
     "output_type": "stream",
     "text": [
      "\n",
      "      Epoch    GPU_mem   box_loss   cls_loss   dfl_loss  Instances       Size\n"
     ]
    },
    {
     "name": "stderr",
     "output_type": "stream",
     "text": [
      "      7/100      12.2G       2.22      1.597      2.616          9        416: 100%|██████████| 126/126 [03:49<00:00,  1.82s/it]\n",
      "                 Class     Images  Instances      Box(P          R      mAP50  mAP50-95): 100%|██████████| 7/7 [00:12<00:00,  1.72s/it]\n"
     ]
    },
    {
     "name": "stdout",
     "output_type": "stream",
     "text": [
      "                   all        196        262     0.0834       0.13     0.0348    0.00741\n",
      "\n",
      "      Epoch    GPU_mem   box_loss   cls_loss   dfl_loss  Instances       Size\n"
     ]
    },
    {
     "name": "stderr",
     "output_type": "stream",
     "text": [
      "      8/100      12.1G      2.407      1.612      2.818          9        416: 100%|██████████| 126/126 [02:50<00:00,  1.35s/it]\n",
      "                 Class     Images  Instances      Box(P          R      mAP50  mAP50-95): 100%|██████████| 7/7 [00:09<00:00,  1.31s/it]"
     ]
    },
    {
     "name": "stdout",
     "output_type": "stream",
     "text": [
      "                   all        196        262      0.467      0.325      0.267     0.0726\n"
     ]
    },
    {
     "name": "stderr",
     "output_type": "stream",
     "text": [
      "\n"
     ]
    },
    {
     "name": "stdout",
     "output_type": "stream",
     "text": [
      "\n",
      "      Epoch    GPU_mem   box_loss   cls_loss   dfl_loss  Instances       Size\n"
     ]
    },
    {
     "name": "stderr",
     "output_type": "stream",
     "text": [
      "      9/100      11.8G      2.222      1.577      2.571          9        416: 100%|██████████| 126/126 [02:37<00:00,  1.25s/it]\n",
      "                 Class     Images  Instances      Box(P          R      mAP50  mAP50-95): 100%|██████████| 7/7 [00:08<00:00,  1.19s/it]"
     ]
    },
    {
     "name": "stdout",
     "output_type": "stream",
     "text": [
      "                   all        196        262      0.321      0.263      0.176     0.0565\n"
     ]
    },
    {
     "name": "stderr",
     "output_type": "stream",
     "text": [
      "\n"
     ]
    },
    {
     "name": "stdout",
     "output_type": "stream",
     "text": [
      "\n",
      "      Epoch    GPU_mem   box_loss   cls_loss   dfl_loss  Instances       Size\n"
     ]
    },
    {
     "name": "stderr",
     "output_type": "stream",
     "text": [
      "     10/100      12.1G      2.443        1.6       2.85          8        416: 100%|██████████| 126/126 [03:03<00:00,  1.46s/it]\n",
      "                 Class     Images  Instances      Box(P          R      mAP50  mAP50-95): 100%|██████████| 7/7 [00:08<00:00,  1.20s/it]\n"
     ]
    },
    {
     "name": "stdout",
     "output_type": "stream",
     "text": [
      "                   all        196        262     0.0483      0.122     0.0229    0.00668\n",
      "\n",
      "      Epoch    GPU_mem   box_loss   cls_loss   dfl_loss  Instances       Size\n"
     ]
    },
    {
     "name": "stderr",
     "output_type": "stream",
     "text": [
      "     11/100      11.9G      2.203      1.502      2.558          9        416: 100%|██████████| 126/126 [02:56<00:00,  1.40s/it]\n",
      "                 Class     Images  Instances      Box(P          R      mAP50  mAP50-95): 100%|██████████| 7/7 [00:07<00:00,  1.13s/it]"
     ]
    },
    {
     "name": "stdout",
     "output_type": "stream",
     "text": [
      "                   all        196        262     0.0792      0.202     0.0428     0.0131\n"
     ]
    },
    {
     "name": "stderr",
     "output_type": "stream",
     "text": [
      "\n"
     ]
    },
    {
     "name": "stdout",
     "output_type": "stream",
     "text": [
      "\n",
      "      Epoch    GPU_mem   box_loss   cls_loss   dfl_loss  Instances       Size\n"
     ]
    },
    {
     "name": "stderr",
     "output_type": "stream",
     "text": [
      "     12/100      12.1G      2.391      1.567      2.825          9        416: 100%|██████████| 126/126 [02:14<00:00,  1.06s/it]\n",
      "                 Class     Images  Instances      Box(P          R      mAP50  mAP50-95): 100%|██████████| 7/7 [00:08<00:00,  1.18s/it]"
     ]
    },
    {
     "name": "stdout",
     "output_type": "stream",
     "text": [
      "                   all        196        262      0.142      0.359     0.0819     0.0233\n"
     ]
    },
    {
     "name": "stderr",
     "output_type": "stream",
     "text": [
      "\n"
     ]
    },
    {
     "name": "stdout",
     "output_type": "stream",
     "text": [
      "\n",
      "      Epoch    GPU_mem   box_loss   cls_loss   dfl_loss  Instances       Size\n"
     ]
    },
    {
     "name": "stderr",
     "output_type": "stream",
     "text": [
      "     13/100      11.9G      2.449      1.589       2.87          9        416: 100%|██████████| 126/126 [02:23<00:00,  1.14s/it]\n",
      "                 Class     Images  Instances      Box(P          R      mAP50  mAP50-95): 100%|██████████| 7/7 [00:08<00:00,  1.22s/it]"
     ]
    },
    {
     "name": "stdout",
     "output_type": "stream",
     "text": [
      "                   all        196        262      0.366      0.267      0.207     0.0532\n"
     ]
    },
    {
     "name": "stderr",
     "output_type": "stream",
     "text": [
      "\n"
     ]
    },
    {
     "name": "stdout",
     "output_type": "stream",
     "text": [
      "\n",
      "      Epoch    GPU_mem   box_loss   cls_loss   dfl_loss  Instances       Size\n"
     ]
    },
    {
     "name": "stderr",
     "output_type": "stream",
     "text": [
      "     14/100      12.1G       2.66       1.57      3.054          9        416: 100%|██████████| 126/126 [02:40<00:00,  1.27s/it]\n",
      "                 Class     Images  Instances      Box(P          R      mAP50  mAP50-95): 100%|██████████| 7/7 [00:07<00:00,  1.06s/it]"
     ]
    },
    {
     "name": "stdout",
     "output_type": "stream",
     "text": [
      "                   all        196        262      0.144      0.298     0.0821     0.0231\n"
     ]
    },
    {
     "name": "stderr",
     "output_type": "stream",
     "text": [
      "\n"
     ]
    },
    {
     "name": "stdout",
     "output_type": "stream",
     "text": [
      "\n",
      "      Epoch    GPU_mem   box_loss   cls_loss   dfl_loss  Instances       Size\n"
     ]
    },
    {
     "name": "stderr",
     "output_type": "stream",
     "text": [
      "     15/100      12.3G       2.36      1.483      2.837          9        416: 100%|██████████| 126/126 [02:12<00:00,  1.05s/it]\n",
      "                 Class     Images  Instances      Box(P          R      mAP50  mAP50-95): 100%|██████████| 7/7 [00:10<00:00,  1.48s/it]"
     ]
    },
    {
     "name": "stdout",
     "output_type": "stream",
     "text": [
      "                   all        196        262      0.506      0.282      0.221     0.0548\n"
     ]
    },
    {
     "name": "stderr",
     "output_type": "stream",
     "text": [
      "\n"
     ]
    },
    {
     "name": "stdout",
     "output_type": "stream",
     "text": [
      "\n",
      "      Epoch    GPU_mem   box_loss   cls_loss   dfl_loss  Instances       Size\n"
     ]
    },
    {
     "name": "stderr",
     "output_type": "stream",
     "text": [
      "     16/100      12.1G      2.261      1.515      2.558          9        416: 100%|██████████| 126/126 [02:16<00:00,  1.09s/it]\n",
      "                 Class     Images  Instances      Box(P          R      mAP50  mAP50-95): 100%|██████████| 7/7 [00:08<00:00,  1.18s/it]"
     ]
    },
    {
     "name": "stdout",
     "output_type": "stream",
     "text": [
      "                   all        196        262      0.057      0.141     0.0302    0.00803\n"
     ]
    },
    {
     "name": "stderr",
     "output_type": "stream",
     "text": [
      "\n"
     ]
    },
    {
     "name": "stdout",
     "output_type": "stream",
     "text": [
      "\n",
      "      Epoch    GPU_mem   box_loss   cls_loss   dfl_loss  Instances       Size\n"
     ]
    },
    {
     "name": "stderr",
     "output_type": "stream",
     "text": [
      "     17/100      11.9G      2.283      1.494      2.675          9        416: 100%|██████████| 126/126 [02:38<00:00,  1.26s/it]\n",
      "                 Class     Images  Instances      Box(P          R      mAP50  mAP50-95): 100%|██████████| 7/7 [00:07<00:00,  1.11s/it]"
     ]
    },
    {
     "name": "stdout",
     "output_type": "stream",
     "text": [
      "                   all        196        262     0.0574      0.324     0.0324     0.0116\n"
     ]
    },
    {
     "name": "stderr",
     "output_type": "stream",
     "text": [
      "\n"
     ]
    },
    {
     "name": "stdout",
     "output_type": "stream",
     "text": [
      "\n",
      "      Epoch    GPU_mem   box_loss   cls_loss   dfl_loss  Instances       Size\n"
     ]
    },
    {
     "name": "stderr",
     "output_type": "stream",
     "text": [
      "     18/100      12.1G      2.198      1.464      2.536          9        416: 100%|██████████| 126/126 [02:46<00:00,  1.32s/it]\n",
      "                 Class     Images  Instances      Box(P          R      mAP50  mAP50-95): 100%|██████████| 7/7 [00:07<00:00,  1.05s/it]"
     ]
    },
    {
     "name": "stdout",
     "output_type": "stream",
     "text": [
      "                   all        196        262     0.0729      0.366      0.043     0.0121\n",
      "Stopping training early as no improvement observed in last 10 epochs. Best results observed at epoch 8, best model saved as best.pt.\n",
      "To update EarlyStopping(patience=10) pass a new patience value, i.e. `patience=300` or use `patience=0` to disable EarlyStopping.\n"
     ]
    },
    {
     "name": "stderr",
     "output_type": "stream",
     "text": [
      "\n"
     ]
    },
    {
     "name": "stdout",
     "output_type": "stream",
     "text": [
      "\n",
      "18 epochs completed in 0.786 hours.\n",
      "Optimizer stripped from runs\\detect\\FacialDetection2\\weights\\last.pt, 22.5MB\n",
      "Optimizer stripped from runs\\detect\\FacialDetection2\\weights\\best.pt, 22.5MB\n",
      "\n",
      "Validating runs\\detect\\FacialDetection2\\weights\\best.pt...\n",
      "Ultralytics YOLOv8.0.227 🚀 Python-3.11.6 torch-2.1.1+cu121 CUDA:0 (NVIDIA GeForce GTX 1660 SUPER, 6144MiB)\n",
      "Model summary (fused): 168 layers, 11125971 parameters, 0 gradients, 28.4 GFLOPs\n"
     ]
    },
    {
     "name": "stderr",
     "output_type": "stream",
     "text": [
      "                 Class     Images  Instances      Box(P          R      mAP50  mAP50-95): 100%|██████████| 7/7 [00:07<00:00,  1.07s/it]\n"
     ]
    },
    {
     "name": "stdout",
     "output_type": "stream",
     "text": [
      "                   all        196        262      0.467      0.324      0.267     0.0727\n",
      "Speed: 0.2ms preprocess, 32.0ms inference, 0.0ms loss, 1.2ms postprocess per image\n",
      "Results saved to \u001b[1mruns\\detect\\FacialDetection2\u001b[0m\n",
      "Ultralytics YOLOv8.0.227 🚀 Python-3.11.6 torch-2.1.1+cu121 CUDA:0 (NVIDIA GeForce GTX 1660 SUPER, 6144MiB)\n",
      "Model summary (fused): 168 layers, 11125971 parameters, 0 gradients, 28.4 GFLOPs\n"
     ]
    },
    {
     "name": "stderr",
     "output_type": "stream",
     "text": [
      "\u001b[34m\u001b[1mval: \u001b[0mScanning D:\\GitHub\\FaceRecognition_FeatureExtractor\\datasets\\data\\labels\\val.cache... 196 images, 0 backgrounds, 0 corrupt: 100%|██████████| 196/196 [00:00<?, ?it/s]\n",
      "                 Class     Images  Instances      Box(P          R      mAP50  mAP50-95): 100%|██████████| 13/13 [00:03<00:00,  3.75it/s]\n"
     ]
    },
    {
     "name": "stdout",
     "output_type": "stream",
     "text": [
      "                   all        196        262      0.446      0.515      0.382      0.105\n",
      "Speed: 0.2ms preprocess, 7.7ms inference, 0.0ms loss, 1.1ms postprocess per image\n",
      "Results saved to \u001b[1mruns\\detect\\FacialDetection22\u001b[0m\n",
      "ultralytics.utils.metrics.DetMetrics object with attributes:\n",
      "\n",
      "ap_class_index: array([0])\n",
      "box: ultralytics.utils.metrics.Metric object\n",
      "confusion_matrix: <ultralytics.utils.metrics.ConfusionMatrix object at 0x000001C78742D2D0>\n",
      "curves: ['Precision-Recall(B)', 'F1-Confidence(B)', 'Precision-Confidence(B)', 'Recall-Confidence(B)']\n",
      "curves_results: [[array([          0,    0.001001,    0.002002,    0.003003,    0.004004,    0.005005,    0.006006,    0.007007,    0.008008,    0.009009,     0.01001,    0.011011,    0.012012,    0.013013,    0.014014,    0.015015,    0.016016,    0.017017,    0.018018,    0.019019,     0.02002,    0.021021,    0.022022,    0.023023,\n",
      "          0.024024,    0.025025,    0.026026,    0.027027,    0.028028,    0.029029,     0.03003,    0.031031,    0.032032,    0.033033,    0.034034,    0.035035,    0.036036,    0.037037,    0.038038,    0.039039,     0.04004,    0.041041,    0.042042,    0.043043,    0.044044,    0.045045,    0.046046,    0.047047,\n",
      "          0.048048,    0.049049,     0.05005,    0.051051,    0.052052,    0.053053,    0.054054,    0.055055,    0.056056,    0.057057,    0.058058,    0.059059,     0.06006,    0.061061,    0.062062,    0.063063,    0.064064,    0.065065,    0.066066,    0.067067,    0.068068,    0.069069,     0.07007,    0.071071,\n",
      "          0.072072,    0.073073,    0.074074,    0.075075,    0.076076,    0.077077,    0.078078,    0.079079,     0.08008,    0.081081,    0.082082,    0.083083,    0.084084,    0.085085,    0.086086,    0.087087,    0.088088,    0.089089,     0.09009,    0.091091,    0.092092,    0.093093,    0.094094,    0.095095,\n",
      "          0.096096,    0.097097,    0.098098,    0.099099,      0.1001,      0.1011,      0.1021,      0.1031,      0.1041,     0.10511,     0.10611,     0.10711,     0.10811,     0.10911,     0.11011,     0.11111,     0.11211,     0.11311,     0.11411,     0.11512,     0.11612,     0.11712,     0.11812,     0.11912,\n",
      "           0.12012,     0.12112,     0.12212,     0.12312,     0.12412,     0.12513,     0.12613,     0.12713,     0.12813,     0.12913,     0.13013,     0.13113,     0.13213,     0.13313,     0.13413,     0.13514,     0.13614,     0.13714,     0.13814,     0.13914,     0.14014,     0.14114,     0.14214,     0.14314,\n",
      "           0.14414,     0.14515,     0.14615,     0.14715,     0.14815,     0.14915,     0.15015,     0.15115,     0.15215,     0.15315,     0.15415,     0.15516,     0.15616,     0.15716,     0.15816,     0.15916,     0.16016,     0.16116,     0.16216,     0.16316,     0.16416,     0.16517,     0.16617,     0.16717,\n",
      "           0.16817,     0.16917,     0.17017,     0.17117,     0.17217,     0.17317,     0.17417,     0.17518,     0.17618,     0.17718,     0.17818,     0.17918,     0.18018,     0.18118,     0.18218,     0.18318,     0.18418,     0.18519,     0.18619,     0.18719,     0.18819,     0.18919,     0.19019,     0.19119,\n",
      "           0.19219,     0.19319,     0.19419,      0.1952,      0.1962,      0.1972,      0.1982,      0.1992,      0.2002,      0.2012,      0.2022,      0.2032,      0.2042,     0.20521,     0.20621,     0.20721,     0.20821,     0.20921,     0.21021,     0.21121,     0.21221,     0.21321,     0.21421,     0.21522,\n",
      "           0.21622,     0.21722,     0.21822,     0.21922,     0.22022,     0.22122,     0.22222,     0.22322,     0.22422,     0.22523,     0.22623,     0.22723,     0.22823,     0.22923,     0.23023,     0.23123,     0.23223,     0.23323,     0.23423,     0.23524,     0.23624,     0.23724,     0.23824,     0.23924,\n",
      "           0.24024,     0.24124,     0.24224,     0.24324,     0.24424,     0.24525,     0.24625,     0.24725,     0.24825,     0.24925,     0.25025,     0.25125,     0.25225,     0.25325,     0.25425,     0.25526,     0.25626,     0.25726,     0.25826,     0.25926,     0.26026,     0.26126,     0.26226,     0.26326,\n",
      "           0.26426,     0.26527,     0.26627,     0.26727,     0.26827,     0.26927,     0.27027,     0.27127,     0.27227,     0.27327,     0.27427,     0.27528,     0.27628,     0.27728,     0.27828,     0.27928,     0.28028,     0.28128,     0.28228,     0.28328,     0.28428,     0.28529,     0.28629,     0.28729,\n",
      "           0.28829,     0.28929,     0.29029,     0.29129,     0.29229,     0.29329,     0.29429,      0.2953,      0.2963,      0.2973,      0.2983,      0.2993,      0.3003,      0.3013,      0.3023,      0.3033,      0.3043,     0.30531,     0.30631,     0.30731,     0.30831,     0.30931,     0.31031,     0.31131,\n",
      "           0.31231,     0.31331,     0.31431,     0.31532,     0.31632,     0.31732,     0.31832,     0.31932,     0.32032,     0.32132,     0.32232,     0.32332,     0.32432,     0.32533,     0.32633,     0.32733,     0.32833,     0.32933,     0.33033,     0.33133,     0.33233,     0.33333,     0.33433,     0.33534,\n",
      "           0.33634,     0.33734,     0.33834,     0.33934,     0.34034,     0.34134,     0.34234,     0.34334,     0.34434,     0.34535,     0.34635,     0.34735,     0.34835,     0.34935,     0.35035,     0.35135,     0.35235,     0.35335,     0.35435,     0.35536,     0.35636,     0.35736,     0.35836,     0.35936,\n",
      "           0.36036,     0.36136,     0.36236,     0.36336,     0.36436,     0.36537,     0.36637,     0.36737,     0.36837,     0.36937,     0.37037,     0.37137,     0.37237,     0.37337,     0.37437,     0.37538,     0.37638,     0.37738,     0.37838,     0.37938,     0.38038,     0.38138,     0.38238,     0.38338,\n",
      "           0.38438,     0.38539,     0.38639,     0.38739,     0.38839,     0.38939,     0.39039,     0.39139,     0.39239,     0.39339,     0.39439,      0.3954,      0.3964,      0.3974,      0.3984,      0.3994,      0.4004,      0.4014,      0.4024,      0.4034,      0.4044,     0.40541,     0.40641,     0.40741,\n",
      "           0.40841,     0.40941,     0.41041,     0.41141,     0.41241,     0.41341,     0.41441,     0.41542,     0.41642,     0.41742,     0.41842,     0.41942,     0.42042,     0.42142,     0.42242,     0.42342,     0.42442,     0.42543,     0.42643,     0.42743,     0.42843,     0.42943,     0.43043,     0.43143,\n",
      "           0.43243,     0.43343,     0.43443,     0.43544,     0.43644,     0.43744,     0.43844,     0.43944,     0.44044,     0.44144,     0.44244,     0.44344,     0.44444,     0.44545,     0.44645,     0.44745,     0.44845,     0.44945,     0.45045,     0.45145,     0.45245,     0.45345,     0.45445,     0.45546,\n",
      "           0.45646,     0.45746,     0.45846,     0.45946,     0.46046,     0.46146,     0.46246,     0.46346,     0.46446,     0.46547,     0.46647,     0.46747,     0.46847,     0.46947,     0.47047,     0.47147,     0.47247,     0.47347,     0.47447,     0.47548,     0.47648,     0.47748,     0.47848,     0.47948,\n",
      "           0.48048,     0.48148,     0.48248,     0.48348,     0.48448,     0.48549,     0.48649,     0.48749,     0.48849,     0.48949,     0.49049,     0.49149,     0.49249,     0.49349,     0.49449,      0.4955,      0.4965,      0.4975,      0.4985,      0.4995,      0.5005,      0.5015,      0.5025,      0.5035,\n",
      "            0.5045,     0.50551,     0.50651,     0.50751,     0.50851,     0.50951,     0.51051,     0.51151,     0.51251,     0.51351,     0.51451,     0.51552,     0.51652,     0.51752,     0.51852,     0.51952,     0.52052,     0.52152,     0.52252,     0.52352,     0.52452,     0.52553,     0.52653,     0.52753,\n",
      "           0.52853,     0.52953,     0.53053,     0.53153,     0.53253,     0.53353,     0.53453,     0.53554,     0.53654,     0.53754,     0.53854,     0.53954,     0.54054,     0.54154,     0.54254,     0.54354,     0.54454,     0.54555,     0.54655,     0.54755,     0.54855,     0.54955,     0.55055,     0.55155,\n",
      "           0.55255,     0.55355,     0.55455,     0.55556,     0.55656,     0.55756,     0.55856,     0.55956,     0.56056,     0.56156,     0.56256,     0.56356,     0.56456,     0.56557,     0.56657,     0.56757,     0.56857,     0.56957,     0.57057,     0.57157,     0.57257,     0.57357,     0.57457,     0.57558,\n",
      "           0.57658,     0.57758,     0.57858,     0.57958,     0.58058,     0.58158,     0.58258,     0.58358,     0.58458,     0.58559,     0.58659,     0.58759,     0.58859,     0.58959,     0.59059,     0.59159,     0.59259,     0.59359,     0.59459,      0.5956,      0.5966,      0.5976,      0.5986,      0.5996,\n",
      "            0.6006,      0.6016,      0.6026,      0.6036,      0.6046,     0.60561,     0.60661,     0.60761,     0.60861,     0.60961,     0.61061,     0.61161,     0.61261,     0.61361,     0.61461,     0.61562,     0.61662,     0.61762,     0.61862,     0.61962,     0.62062,     0.62162,     0.62262,     0.62362,\n",
      "           0.62462,     0.62563,     0.62663,     0.62763,     0.62863,     0.62963,     0.63063,     0.63163,     0.63263,     0.63363,     0.63463,     0.63564,     0.63664,     0.63764,     0.63864,     0.63964,     0.64064,     0.64164,     0.64264,     0.64364,     0.64464,     0.64565,     0.64665,     0.64765,\n",
      "           0.64865,     0.64965,     0.65065,     0.65165,     0.65265,     0.65365,     0.65465,     0.65566,     0.65666,     0.65766,     0.65866,     0.65966,     0.66066,     0.66166,     0.66266,     0.66366,     0.66466,     0.66567,     0.66667,     0.66767,     0.66867,     0.66967,     0.67067,     0.67167,\n",
      "           0.67267,     0.67367,     0.67467,     0.67568,     0.67668,     0.67768,     0.67868,     0.67968,     0.68068,     0.68168,     0.68268,     0.68368,     0.68468,     0.68569,     0.68669,     0.68769,     0.68869,     0.68969,     0.69069,     0.69169,     0.69269,     0.69369,     0.69469,      0.6957,\n",
      "            0.6967,      0.6977,      0.6987,      0.6997,      0.7007,      0.7017,      0.7027,      0.7037,      0.7047,     0.70571,     0.70671,     0.70771,     0.70871,     0.70971,     0.71071,     0.71171,     0.71271,     0.71371,     0.71471,     0.71572,     0.71672,     0.71772,     0.71872,     0.71972,\n",
      "           0.72072,     0.72172,     0.72272,     0.72372,     0.72472,     0.72573,     0.72673,     0.72773,     0.72873,     0.72973,     0.73073,     0.73173,     0.73273,     0.73373,     0.73473,     0.73574,     0.73674,     0.73774,     0.73874,     0.73974,     0.74074,     0.74174,     0.74274,     0.74374,\n",
      "           0.74474,     0.74575,     0.74675,     0.74775,     0.74875,     0.74975,     0.75075,     0.75175,     0.75275,     0.75375,     0.75475,     0.75576,     0.75676,     0.75776,     0.75876,     0.75976,     0.76076,     0.76176,     0.76276,     0.76376,     0.76476,     0.76577,     0.76677,     0.76777,\n",
      "           0.76877,     0.76977,     0.77077,     0.77177,     0.77277,     0.77377,     0.77477,     0.77578,     0.77678,     0.77778,     0.77878,     0.77978,     0.78078,     0.78178,     0.78278,     0.78378,     0.78478,     0.78579,     0.78679,     0.78779,     0.78879,     0.78979,     0.79079,     0.79179,\n",
      "           0.79279,     0.79379,     0.79479,      0.7958,      0.7968,      0.7978,      0.7988,      0.7998,      0.8008,      0.8018,      0.8028,      0.8038,      0.8048,     0.80581,     0.80681,     0.80781,     0.80881,     0.80981,     0.81081,     0.81181,     0.81281,     0.81381,     0.81481,     0.81582,\n",
      "           0.81682,     0.81782,     0.81882,     0.81982,     0.82082,     0.82182,     0.82282,     0.82382,     0.82482,     0.82583,     0.82683,     0.82783,     0.82883,     0.82983,     0.83083,     0.83183,     0.83283,     0.83383,     0.83483,     0.83584,     0.83684,     0.83784,     0.83884,     0.83984,\n",
      "           0.84084,     0.84184,     0.84284,     0.84384,     0.84484,     0.84585,     0.84685,     0.84785,     0.84885,     0.84985,     0.85085,     0.85185,     0.85285,     0.85385,     0.85485,     0.85586,     0.85686,     0.85786,     0.85886,     0.85986,     0.86086,     0.86186,     0.86286,     0.86386,\n",
      "           0.86486,     0.86587,     0.86687,     0.86787,     0.86887,     0.86987,     0.87087,     0.87187,     0.87287,     0.87387,     0.87487,     0.87588,     0.87688,     0.87788,     0.87888,     0.87988,     0.88088,     0.88188,     0.88288,     0.88388,     0.88488,     0.88589,     0.88689,     0.88789,\n",
      "           0.88889,     0.88989,     0.89089,     0.89189,     0.89289,     0.89389,     0.89489,      0.8959,      0.8969,      0.8979,      0.8989,      0.8999,      0.9009,      0.9019,      0.9029,      0.9039,      0.9049,     0.90591,     0.90691,     0.90791,     0.90891,     0.90991,     0.91091,     0.91191,\n",
      "           0.91291,     0.91391,     0.91491,     0.91592,     0.91692,     0.91792,     0.91892,     0.91992,     0.92092,     0.92192,     0.92292,     0.92392,     0.92492,     0.92593,     0.92693,     0.92793,     0.92893,     0.92993,     0.93093,     0.93193,     0.93293,     0.93393,     0.93493,     0.93594,\n",
      "           0.93694,     0.93794,     0.93894,     0.93994,     0.94094,     0.94194,     0.94294,     0.94394,     0.94494,     0.94595,     0.94695,     0.94795,     0.94895,     0.94995,     0.95095,     0.95195,     0.95295,     0.95395,     0.95495,     0.95596,     0.95696,     0.95796,     0.95896,     0.95996,\n",
      "           0.96096,     0.96196,     0.96296,     0.96396,     0.96496,     0.96597,     0.96697,     0.96797,     0.96897,     0.96997,     0.97097,     0.97197,     0.97297,     0.97397,     0.97497,     0.97598,     0.97698,     0.97798,     0.97898,     0.97998,     0.98098,     0.98198,     0.98298,     0.98398,\n",
      "           0.98498,     0.98599,     0.98699,     0.98799,     0.98899,     0.98999,     0.99099,     0.99199,     0.99299,     0.99399,     0.99499,       0.996,       0.997,       0.998,       0.999,           1]), array([[          1,           1,           1,           1,           1,           1,           1,           1,           1,           1,           1,           1,     0.76923,     0.76923,     0.76923,     0.76923,     0.76923,     0.76923,     0.76923,     0.76923,     0.76923,     0.76923,     0.76923,\n",
      "            0.76923,     0.76923,     0.76923,     0.76923,     0.76923,     0.76923,     0.76923,     0.76923,     0.76923,     0.76923,     0.76923,     0.76923,     0.76923,     0.76923,     0.76923,     0.76923,     0.70588,     0.70588,     0.70588,     0.70588,     0.70588,     0.70588,     0.70588,\n",
      "                0.7,         0.7,         0.7,         0.7,         0.7,         0.7,         0.7,         0.7,       0.625,       0.625,       0.625,       0.625,     0.57143,     0.57143,     0.57143,     0.57143,        0.55,        0.55,        0.55,        0.55,        0.55,        0.55,        0.55,\n",
      "               0.55,        0.55,        0.55,        0.55,        0.55,        0.55,        0.55,        0.55,        0.55,        0.55,        0.55,        0.55,        0.55,        0.55,        0.55,        0.55,        0.55,        0.55,        0.55,        0.55,        0.55,        0.55,        0.55,\n",
      "               0.55,        0.55,        0.55,        0.55,        0.55,        0.55,        0.55,        0.55,        0.55,        0.55,        0.55,        0.55,        0.55,        0.55,        0.55,        0.55,        0.55,        0.55,        0.55,        0.55,        0.55,        0.55,        0.55,\n",
      "               0.55,        0.55,        0.55,        0.55,        0.55,        0.55,        0.55,        0.55,        0.55,        0.55,        0.55,     0.54444,     0.54444,     0.54444,     0.54444,     0.54444,     0.54444,     0.54444,     0.54444,     0.54444,     0.54444,     0.54444,     0.54444,\n",
      "            0.54444,     0.54444,     0.54444,     0.54444,     0.54444,     0.54444,     0.54444,     0.54444,     0.54444,     0.54444,     0.54444,     0.54444,     0.54444,     0.54444,     0.54444,     0.54444,     0.54444,     0.54444,     0.54444,     0.54444,     0.54444,     0.54444,     0.54444,\n",
      "            0.54444,     0.54444,     0.54444,     0.54444,     0.54444,     0.54444,     0.54444,     0.54444,     0.54444,     0.54444,     0.54444,     0.54444,     0.54444,     0.54444,     0.54444,     0.54444,     0.54444,     0.54444,     0.54444,     0.54444,     0.54444,     0.54444,     0.54444,\n",
      "            0.54444,     0.54444,     0.54444,     0.54348,     0.54348,     0.54348,     0.54348,     0.54255,     0.54255,     0.54255,     0.54255,     0.54135,     0.54135,     0.54135,     0.54135,     0.54135,     0.54135,     0.54135,     0.54135,     0.54135,     0.54135,     0.54135,     0.54135,\n",
      "            0.54135,     0.54135,     0.54135,     0.54135,     0.54135,     0.54135,     0.54135,     0.54135,     0.54135,     0.54135,     0.54135,     0.54135,     0.54135,     0.54135,     0.54135,     0.54135,     0.54135,     0.54135,     0.54135,     0.54135,     0.54135,     0.54135,     0.54135,\n",
      "            0.54135,     0.54135,     0.54135,     0.54135,     0.54135,     0.54135,     0.54135,     0.54135,     0.54135,     0.54135,     0.54135,     0.54135,     0.54135,     0.54135,     0.54135,     0.54135,     0.54135,     0.54135,     0.54135,     0.54135,     0.54135,     0.54135,     0.54135,\n",
      "            0.54135,     0.54135,     0.54135,     0.54135,     0.54135,     0.54135,     0.54135,     0.54135,     0.54135,     0.54135,     0.54135,     0.54135,     0.54135,     0.54135,     0.54135,     0.54135,     0.54135,     0.54135,     0.54135,     0.54135,     0.54135,     0.54135,     0.53957,\n",
      "            0.53957,     0.53957,     0.53957,     0.53957,     0.53957,     0.53957,     0.53957,     0.53957,     0.53957,     0.53957,     0.53846,     0.53846,     0.53846,     0.53846,     0.53846,     0.53846,     0.53846,     0.53846,      0.5302,      0.5302,      0.5302,      0.5302,      0.5302,\n",
      "             0.5302,      0.5302,      0.5302,     0.52941,     0.52941,     0.52941,     0.52941,     0.52941,     0.52941,     0.52941,     0.52532,     0.52532,     0.52532,     0.52532,     0.52532,     0.52532,     0.52532,     0.52532,     0.52174,     0.52174,     0.52174,     0.52174,     0.52147,\n",
      "            0.52147,     0.52147,     0.52147,     0.52121,     0.52121,     0.52121,     0.51685,     0.51685,     0.51685,     0.51685,     0.51685,     0.51685,     0.51685,     0.51685,     0.51685,     0.51685,     0.51685,     0.51685,     0.51685,     0.51685,     0.51685,     0.51685,     0.51685,\n",
      "            0.51685,     0.51685,     0.51685,     0.51685,     0.51685,     0.51685,     0.51064,     0.51064,     0.51064,     0.51064,     0.51064,     0.51064,     0.51064,     0.51064,     0.51064,     0.51064,     0.51064,     0.51064,     0.51064,     0.51064,     0.51064,     0.51064,     0.50785,\n",
      "            0.50785,     0.50785,     0.50777,     0.50777,     0.50777,     0.50777,     0.48792,     0.48792,     0.48792,     0.48792,     0.48792,     0.48792,     0.48792,     0.48792,     0.48792,     0.48792,     0.48792,     0.48792,     0.48585,     0.48585,     0.48585,     0.48585,     0.48585,\n",
      "            0.48585,     0.48585,     0.47826,     0.47826,     0.47826,     0.47826,     0.47826,     0.47826,     0.47826,     0.47826,     0.47826,     0.47826,     0.47826,     0.47826,     0.47826,     0.47826,     0.47826,     0.47826,     0.47826,     0.47826,     0.47826,     0.47826,     0.47826,\n",
      "            0.47826,     0.47826,     0.47826,     0.47826,     0.47826,     0.47826,     0.47755,     0.47755,     0.47755,     0.47755,     0.47755,     0.47755,     0.47755,     0.47755,     0.47755,     0.47755,     0.47755,     0.47755,     0.47755,     0.47755,     0.47755,     0.47755,     0.47755,\n",
      "            0.47755,     0.47755,     0.47755,     0.47755,     0.47755,     0.47755,     0.47755,     0.47755,     0.47755,     0.47755,      0.4771,      0.4771,      0.4771,      0.4771,      0.4771,      0.4771,      0.4771,      0.4771,      0.4771,      0.4771,      0.4771,      0.4771,      0.4771,\n",
      "             0.4771,      0.4771,      0.4771,      0.4771,      0.4771,      0.4771,      0.4771,      0.4771,      0.4771,      0.4771,      0.4771,      0.4771,      0.4771,      0.4771,      0.4771,      0.4771,      0.4771,     0.46691,     0.46691,     0.46691,     0.46691,     0.46691,     0.46691,\n",
      "            0.46691,     0.46691,     0.46377,     0.46377,     0.46377,     0.46377,     0.45907,     0.45907,     0.45907,     0.45455,     0.45455,     0.45455,     0.45455,     0.45361,     0.45361,     0.45361,     0.45361,     0.45361,     0.45361,     0.45361,     0.45361,        0.45,        0.45,\n",
      "               0.45,        0.45,        0.45,        0.45,        0.45,        0.45,        0.45,        0.45,        0.45,     0.44625,     0.44625,     0.44625,     0.44625,     0.44625,     0.44625,     0.44625,     0.44625,      0.4381,      0.4381,      0.4381,      0.4381,     0.43438,     0.43438,\n",
      "            0.43438,     0.43438,     0.42945,     0.42945,     0.42945,     0.42857,     0.42857,     0.42857,     0.42857,     0.42643,     0.42643,     0.42643,     0.42643,      0.4157,      0.4157,      0.4157,      0.4157,      0.4073,      0.4073,      0.4073,      0.4073,      0.4073,      0.4073,\n",
      "             0.4073,     0.39782,     0.39782,     0.39782,     0.39782,      0.3973,      0.3973,      0.3973,      0.3973,     0.38802,     0.38802,     0.38802,     0.38802,     0.38802,     0.38802,     0.38802,     0.38802,     0.38168,     0.38168,     0.38168,     0.37561,     0.37561,     0.37561,\n",
      "            0.37561,     0.37561,     0.37561,     0.37561,     0.37561,     0.37561,     0.37561,     0.37561,     0.37561,     0.37561,     0.37561,     0.37561,     0.37561,      0.3753,      0.3753,      0.3753,      0.3753,     0.36534,     0.36534,     0.36534,     0.36259,     0.36259,     0.36259,\n",
      "            0.36259,     0.36136,     0.36136,     0.36136,     0.36136,     0.36136,     0.36136,     0.36136,     0.36136,     0.35635,     0.35635,     0.35635,     0.35635,     0.35619,     0.35619,     0.35619,      0.3382,      0.3382,      0.3382,      0.3382,     0.33817,     0.33817,     0.33817,\n",
      "            0.33817,     0.33131,     0.33131,     0.33131,     0.33131,     0.33066,     0.33066,     0.33066,     0.33066,     0.32937,     0.32937,     0.32937,     0.32364,     0.32364,     0.32364,     0.32364,     0.30952,     0.30952,     0.30952,     0.30952,     0.30952,     0.30952,     0.30952,\n",
      "            0.30952,     0.30811,     0.30811,     0.30811,     0.30811,     0.30811,     0.30811,     0.30811,     0.30811,     0.29655,     0.29655,     0.29655,     0.29431,     0.29431,     0.29431,     0.29431,     0.29431,     0.29431,     0.29431,     0.29431,     0.29431,     0.29431,     0.29431,\n",
      "            0.29431,     0.29431,     0.29431,     0.29431,     0.29431,     0.28922,     0.28922,     0.28922,     0.28435,     0.28435,     0.28435,     0.28435,     0.27829,     0.27829,     0.27829,     0.27829,     0.27829,     0.27829,     0.27829,     0.27829,     0.27829,     0.27829,     0.27829,\n",
      "            0.27829,     0.27829,     0.27829,     0.27829,     0.27395,     0.27395,     0.27395,     0.27395,     0.26851,     0.26851,     0.26851,     0.26851,     0.26851,     0.26851,     0.26851,     0.26851,     0.26763,     0.26763,     0.26763,     0.26763,     0.25512,     0.25512,     0.25512,\n",
      "            0.25512,     0.24575,     0.24575,     0.24575,     0.23227,     0.23227,     0.23227,     0.23227,     0.23227,     0.23227,     0.23227,     0.23227,     0.22984,     0.22984,     0.22984,     0.22984,     0.22535,     0.22535,     0.22535,     0.22535,     0.22494,     0.22494,     0.22494,\n",
      "            0.22273,     0.22273,     0.22273,     0.22273,     0.21421,     0.21421,     0.21421,     0.21421,     0.21421,     0.21421,     0.21421,     0.21421,     0.21367,     0.21367,     0.21367,     0.21367,     0.21064,     0.21064,     0.21064,     0.20794,     0.20794,     0.20794,     0.20794,\n",
      "            0.20704,     0.20704,     0.20704,     0.20704,     0.19648,     0.19648,     0.19648,     0.19648,     0.19536,     0.19536,     0.19536,     0.19536,     0.19389,     0.19389,     0.19389,     0.19389,     0.18647,     0.18647,     0.18647,     0.17967,     0.17967,     0.17967,     0.17967,\n",
      "            0.17866,     0.17866,     0.17866,     0.17866,     0.17662,     0.17662,     0.17662,     0.17662,     0.17657,     0.17657,     0.17657,     0.17657,     0.17145,     0.17145,     0.17145,     0.17087,     0.17087,     0.17087,     0.17087,     0.16562,     0.16562,     0.16562,     0.16562,\n",
      "             0.1627,      0.1627,      0.1627,      0.1627,      0.1621,      0.1621,      0.1621,      0.1621,       0.162,       0.162,       0.162,     0.15517,     0.15517,     0.15517,     0.15517,     0.15517,     0.15517,     0.15517,     0.15517,     0.15049,     0.15049,     0.15049,     0.15049,\n",
      "            0.13841,     0.13841,     0.13841,     0.13841,     0.13826,     0.13826,     0.13826,     0.13826,     0.13631,     0.13631,     0.13631,     0.12738,     0.12738,     0.12738,     0.12738,     0.11599,     0.11599,     0.11599,     0.11599,     0.11161,     0.11161,     0.11161,     0.11161,\n",
      "            0.11117,     0.11117,     0.11117,     0.11117,    0.096113,    0.096113,    0.096113,    0.077931,    0.077931,    0.077931,    0.077931,    0.074597,    0.074597,    0.074597,    0.074597,    0.064334,    0.064334,    0.064334,    0.064334,    0.064038,    0.064038,    0.064038,    0.064038,\n",
      "           0.063589,    0.063589,    0.063589,     0.06116,     0.06116,     0.06116,     0.06116,    0.058898,    0.058898,    0.058898,    0.058898,    0.056444,    0.056444,    0.056444,    0.056444,    0.052349,    0.052349,    0.052349,    0.052349,    0.050011,    0.050011,    0.050011,    0.050011,\n",
      "           0.047997,    0.047997,    0.047997,    0.034205,    0.034205,    0.034205,    0.034205,    0.034205,    0.034205,    0.034205,    0.034205,    0.032785,    0.032785,    0.032785,    0.032785,     0.03175,     0.03175,     0.03175,     0.03175,     0.02898,     0.02898,     0.02898,     0.02842,\n",
      "            0.02842,     0.02842,     0.02842,     0.02552,     0.02552,     0.02552,     0.02552,    0.023481,    0.023155,    0.022829,    0.022503,    0.022177,     0.02185,    0.021524,    0.021198,    0.020872,    0.020546,     0.02022,    0.019894,    0.019568,    0.019241,    0.018915,    0.018589,\n",
      "           0.018263,    0.017937,    0.017611,    0.017285,    0.016959,    0.016632,    0.016306,     0.01598,    0.015654,    0.015328,    0.015002,    0.014676,     0.01435,    0.014023,    0.013697,    0.013371,    0.013045,    0.012719,    0.012393,    0.012067,    0.011741,    0.011414,    0.011088,\n",
      "           0.010762,    0.010436,     0.01011,   0.0097838,   0.0094576,   0.0091315,   0.0088054,   0.0084793,   0.0081531,    0.007827,   0.0075009,   0.0071748,   0.0068486,   0.0065225,   0.0061964,   0.0058703,   0.0055441,    0.005218,   0.0048919,   0.0045658,   0.0042396,   0.0039135,   0.0035874,\n",
      "          0.0032613,   0.0029351,    0.002609,   0.0022829,   0.0019568,   0.0016306,   0.0013045,  0.00097838,  0.00065225,  0.00032613,           0]]), 'Recall', 'Precision'], [array([          0,    0.001001,    0.002002,    0.003003,    0.004004,    0.005005,    0.006006,    0.007007,    0.008008,    0.009009,     0.01001,    0.011011,    0.012012,    0.013013,    0.014014,    0.015015,    0.016016,    0.017017,    0.018018,    0.019019,     0.02002,    0.021021,    0.022022,    0.023023,\n",
      "          0.024024,    0.025025,    0.026026,    0.027027,    0.028028,    0.029029,     0.03003,    0.031031,    0.032032,    0.033033,    0.034034,    0.035035,    0.036036,    0.037037,    0.038038,    0.039039,     0.04004,    0.041041,    0.042042,    0.043043,    0.044044,    0.045045,    0.046046,    0.047047,\n",
      "          0.048048,    0.049049,     0.05005,    0.051051,    0.052052,    0.053053,    0.054054,    0.055055,    0.056056,    0.057057,    0.058058,    0.059059,     0.06006,    0.061061,    0.062062,    0.063063,    0.064064,    0.065065,    0.066066,    0.067067,    0.068068,    0.069069,     0.07007,    0.071071,\n",
      "          0.072072,    0.073073,    0.074074,    0.075075,    0.076076,    0.077077,    0.078078,    0.079079,     0.08008,    0.081081,    0.082082,    0.083083,    0.084084,    0.085085,    0.086086,    0.087087,    0.088088,    0.089089,     0.09009,    0.091091,    0.092092,    0.093093,    0.094094,    0.095095,\n",
      "          0.096096,    0.097097,    0.098098,    0.099099,      0.1001,      0.1011,      0.1021,      0.1031,      0.1041,     0.10511,     0.10611,     0.10711,     0.10811,     0.10911,     0.11011,     0.11111,     0.11211,     0.11311,     0.11411,     0.11512,     0.11612,     0.11712,     0.11812,     0.11912,\n",
      "           0.12012,     0.12112,     0.12212,     0.12312,     0.12412,     0.12513,     0.12613,     0.12713,     0.12813,     0.12913,     0.13013,     0.13113,     0.13213,     0.13313,     0.13413,     0.13514,     0.13614,     0.13714,     0.13814,     0.13914,     0.14014,     0.14114,     0.14214,     0.14314,\n",
      "           0.14414,     0.14515,     0.14615,     0.14715,     0.14815,     0.14915,     0.15015,     0.15115,     0.15215,     0.15315,     0.15415,     0.15516,     0.15616,     0.15716,     0.15816,     0.15916,     0.16016,     0.16116,     0.16216,     0.16316,     0.16416,     0.16517,     0.16617,     0.16717,\n",
      "           0.16817,     0.16917,     0.17017,     0.17117,     0.17217,     0.17317,     0.17417,     0.17518,     0.17618,     0.17718,     0.17818,     0.17918,     0.18018,     0.18118,     0.18218,     0.18318,     0.18418,     0.18519,     0.18619,     0.18719,     0.18819,     0.18919,     0.19019,     0.19119,\n",
      "           0.19219,     0.19319,     0.19419,      0.1952,      0.1962,      0.1972,      0.1982,      0.1992,      0.2002,      0.2012,      0.2022,      0.2032,      0.2042,     0.20521,     0.20621,     0.20721,     0.20821,     0.20921,     0.21021,     0.21121,     0.21221,     0.21321,     0.21421,     0.21522,\n",
      "           0.21622,     0.21722,     0.21822,     0.21922,     0.22022,     0.22122,     0.22222,     0.22322,     0.22422,     0.22523,     0.22623,     0.22723,     0.22823,     0.22923,     0.23023,     0.23123,     0.23223,     0.23323,     0.23423,     0.23524,     0.23624,     0.23724,     0.23824,     0.23924,\n",
      "           0.24024,     0.24124,     0.24224,     0.24324,     0.24424,     0.24525,     0.24625,     0.24725,     0.24825,     0.24925,     0.25025,     0.25125,     0.25225,     0.25325,     0.25425,     0.25526,     0.25626,     0.25726,     0.25826,     0.25926,     0.26026,     0.26126,     0.26226,     0.26326,\n",
      "           0.26426,     0.26527,     0.26627,     0.26727,     0.26827,     0.26927,     0.27027,     0.27127,     0.27227,     0.27327,     0.27427,     0.27528,     0.27628,     0.27728,     0.27828,     0.27928,     0.28028,     0.28128,     0.28228,     0.28328,     0.28428,     0.28529,     0.28629,     0.28729,\n",
      "           0.28829,     0.28929,     0.29029,     0.29129,     0.29229,     0.29329,     0.29429,      0.2953,      0.2963,      0.2973,      0.2983,      0.2993,      0.3003,      0.3013,      0.3023,      0.3033,      0.3043,     0.30531,     0.30631,     0.30731,     0.30831,     0.30931,     0.31031,     0.31131,\n",
      "           0.31231,     0.31331,     0.31431,     0.31532,     0.31632,     0.31732,     0.31832,     0.31932,     0.32032,     0.32132,     0.32232,     0.32332,     0.32432,     0.32533,     0.32633,     0.32733,     0.32833,     0.32933,     0.33033,     0.33133,     0.33233,     0.33333,     0.33433,     0.33534,\n",
      "           0.33634,     0.33734,     0.33834,     0.33934,     0.34034,     0.34134,     0.34234,     0.34334,     0.34434,     0.34535,     0.34635,     0.34735,     0.34835,     0.34935,     0.35035,     0.35135,     0.35235,     0.35335,     0.35435,     0.35536,     0.35636,     0.35736,     0.35836,     0.35936,\n",
      "           0.36036,     0.36136,     0.36236,     0.36336,     0.36436,     0.36537,     0.36637,     0.36737,     0.36837,     0.36937,     0.37037,     0.37137,     0.37237,     0.37337,     0.37437,     0.37538,     0.37638,     0.37738,     0.37838,     0.37938,     0.38038,     0.38138,     0.38238,     0.38338,\n",
      "           0.38438,     0.38539,     0.38639,     0.38739,     0.38839,     0.38939,     0.39039,     0.39139,     0.39239,     0.39339,     0.39439,      0.3954,      0.3964,      0.3974,      0.3984,      0.3994,      0.4004,      0.4014,      0.4024,      0.4034,      0.4044,     0.40541,     0.40641,     0.40741,\n",
      "           0.40841,     0.40941,     0.41041,     0.41141,     0.41241,     0.41341,     0.41441,     0.41542,     0.41642,     0.41742,     0.41842,     0.41942,     0.42042,     0.42142,     0.42242,     0.42342,     0.42442,     0.42543,     0.42643,     0.42743,     0.42843,     0.42943,     0.43043,     0.43143,\n",
      "           0.43243,     0.43343,     0.43443,     0.43544,     0.43644,     0.43744,     0.43844,     0.43944,     0.44044,     0.44144,     0.44244,     0.44344,     0.44444,     0.44545,     0.44645,     0.44745,     0.44845,     0.44945,     0.45045,     0.45145,     0.45245,     0.45345,     0.45445,     0.45546,\n",
      "           0.45646,     0.45746,     0.45846,     0.45946,     0.46046,     0.46146,     0.46246,     0.46346,     0.46446,     0.46547,     0.46647,     0.46747,     0.46847,     0.46947,     0.47047,     0.47147,     0.47247,     0.47347,     0.47447,     0.47548,     0.47648,     0.47748,     0.47848,     0.47948,\n",
      "           0.48048,     0.48148,     0.48248,     0.48348,     0.48448,     0.48549,     0.48649,     0.48749,     0.48849,     0.48949,     0.49049,     0.49149,     0.49249,     0.49349,     0.49449,      0.4955,      0.4965,      0.4975,      0.4985,      0.4995,      0.5005,      0.5015,      0.5025,      0.5035,\n",
      "            0.5045,     0.50551,     0.50651,     0.50751,     0.50851,     0.50951,     0.51051,     0.51151,     0.51251,     0.51351,     0.51451,     0.51552,     0.51652,     0.51752,     0.51852,     0.51952,     0.52052,     0.52152,     0.52252,     0.52352,     0.52452,     0.52553,     0.52653,     0.52753,\n",
      "           0.52853,     0.52953,     0.53053,     0.53153,     0.53253,     0.53353,     0.53453,     0.53554,     0.53654,     0.53754,     0.53854,     0.53954,     0.54054,     0.54154,     0.54254,     0.54354,     0.54454,     0.54555,     0.54655,     0.54755,     0.54855,     0.54955,     0.55055,     0.55155,\n",
      "           0.55255,     0.55355,     0.55455,     0.55556,     0.55656,     0.55756,     0.55856,     0.55956,     0.56056,     0.56156,     0.56256,     0.56356,     0.56456,     0.56557,     0.56657,     0.56757,     0.56857,     0.56957,     0.57057,     0.57157,     0.57257,     0.57357,     0.57457,     0.57558,\n",
      "           0.57658,     0.57758,     0.57858,     0.57958,     0.58058,     0.58158,     0.58258,     0.58358,     0.58458,     0.58559,     0.58659,     0.58759,     0.58859,     0.58959,     0.59059,     0.59159,     0.59259,     0.59359,     0.59459,      0.5956,      0.5966,      0.5976,      0.5986,      0.5996,\n",
      "            0.6006,      0.6016,      0.6026,      0.6036,      0.6046,     0.60561,     0.60661,     0.60761,     0.60861,     0.60961,     0.61061,     0.61161,     0.61261,     0.61361,     0.61461,     0.61562,     0.61662,     0.61762,     0.61862,     0.61962,     0.62062,     0.62162,     0.62262,     0.62362,\n",
      "           0.62462,     0.62563,     0.62663,     0.62763,     0.62863,     0.62963,     0.63063,     0.63163,     0.63263,     0.63363,     0.63463,     0.63564,     0.63664,     0.63764,     0.63864,     0.63964,     0.64064,     0.64164,     0.64264,     0.64364,     0.64464,     0.64565,     0.64665,     0.64765,\n",
      "           0.64865,     0.64965,     0.65065,     0.65165,     0.65265,     0.65365,     0.65465,     0.65566,     0.65666,     0.65766,     0.65866,     0.65966,     0.66066,     0.66166,     0.66266,     0.66366,     0.66466,     0.66567,     0.66667,     0.66767,     0.66867,     0.66967,     0.67067,     0.67167,\n",
      "           0.67267,     0.67367,     0.67467,     0.67568,     0.67668,     0.67768,     0.67868,     0.67968,     0.68068,     0.68168,     0.68268,     0.68368,     0.68468,     0.68569,     0.68669,     0.68769,     0.68869,     0.68969,     0.69069,     0.69169,     0.69269,     0.69369,     0.69469,      0.6957,\n",
      "            0.6967,      0.6977,      0.6987,      0.6997,      0.7007,      0.7017,      0.7027,      0.7037,      0.7047,     0.70571,     0.70671,     0.70771,     0.70871,     0.70971,     0.71071,     0.71171,     0.71271,     0.71371,     0.71471,     0.71572,     0.71672,     0.71772,     0.71872,     0.71972,\n",
      "           0.72072,     0.72172,     0.72272,     0.72372,     0.72472,     0.72573,     0.72673,     0.72773,     0.72873,     0.72973,     0.73073,     0.73173,     0.73273,     0.73373,     0.73473,     0.73574,     0.73674,     0.73774,     0.73874,     0.73974,     0.74074,     0.74174,     0.74274,     0.74374,\n",
      "           0.74474,     0.74575,     0.74675,     0.74775,     0.74875,     0.74975,     0.75075,     0.75175,     0.75275,     0.75375,     0.75475,     0.75576,     0.75676,     0.75776,     0.75876,     0.75976,     0.76076,     0.76176,     0.76276,     0.76376,     0.76476,     0.76577,     0.76677,     0.76777,\n",
      "           0.76877,     0.76977,     0.77077,     0.77177,     0.77277,     0.77377,     0.77477,     0.77578,     0.77678,     0.77778,     0.77878,     0.77978,     0.78078,     0.78178,     0.78278,     0.78378,     0.78478,     0.78579,     0.78679,     0.78779,     0.78879,     0.78979,     0.79079,     0.79179,\n",
      "           0.79279,     0.79379,     0.79479,      0.7958,      0.7968,      0.7978,      0.7988,      0.7998,      0.8008,      0.8018,      0.8028,      0.8038,      0.8048,     0.80581,     0.80681,     0.80781,     0.80881,     0.80981,     0.81081,     0.81181,     0.81281,     0.81381,     0.81481,     0.81582,\n",
      "           0.81682,     0.81782,     0.81882,     0.81982,     0.82082,     0.82182,     0.82282,     0.82382,     0.82482,     0.82583,     0.82683,     0.82783,     0.82883,     0.82983,     0.83083,     0.83183,     0.83283,     0.83383,     0.83483,     0.83584,     0.83684,     0.83784,     0.83884,     0.83984,\n",
      "           0.84084,     0.84184,     0.84284,     0.84384,     0.84484,     0.84585,     0.84685,     0.84785,     0.84885,     0.84985,     0.85085,     0.85185,     0.85285,     0.85385,     0.85485,     0.85586,     0.85686,     0.85786,     0.85886,     0.85986,     0.86086,     0.86186,     0.86286,     0.86386,\n",
      "           0.86486,     0.86587,     0.86687,     0.86787,     0.86887,     0.86987,     0.87087,     0.87187,     0.87287,     0.87387,     0.87487,     0.87588,     0.87688,     0.87788,     0.87888,     0.87988,     0.88088,     0.88188,     0.88288,     0.88388,     0.88488,     0.88589,     0.88689,     0.88789,\n",
      "           0.88889,     0.88989,     0.89089,     0.89189,     0.89289,     0.89389,     0.89489,      0.8959,      0.8969,      0.8979,      0.8989,      0.8999,      0.9009,      0.9019,      0.9029,      0.9039,      0.9049,     0.90591,     0.90691,     0.90791,     0.90891,     0.90991,     0.91091,     0.91191,\n",
      "           0.91291,     0.91391,     0.91491,     0.91592,     0.91692,     0.91792,     0.91892,     0.91992,     0.92092,     0.92192,     0.92292,     0.92392,     0.92492,     0.92593,     0.92693,     0.92793,     0.92893,     0.92993,     0.93093,     0.93193,     0.93293,     0.93393,     0.93493,     0.93594,\n",
      "           0.93694,     0.93794,     0.93894,     0.93994,     0.94094,     0.94194,     0.94294,     0.94394,     0.94494,     0.94595,     0.94695,     0.94795,     0.94895,     0.94995,     0.95095,     0.95195,     0.95295,     0.95395,     0.95495,     0.95596,     0.95696,     0.95796,     0.95896,     0.95996,\n",
      "           0.96096,     0.96196,     0.96296,     0.96396,     0.96496,     0.96597,     0.96697,     0.96797,     0.96897,     0.96997,     0.97097,     0.97197,     0.97297,     0.97397,     0.97497,     0.97598,     0.97698,     0.97798,     0.97898,     0.97998,     0.98098,     0.98198,     0.98298,     0.98398,\n",
      "           0.98498,     0.98599,     0.98699,     0.98799,     0.98899,     0.98999,     0.99099,     0.99199,     0.99299,     0.99399,     0.99499,       0.996,       0.997,       0.998,       0.999,           1]), array([[   0.046079,    0.046106,    0.063402,    0.076828,    0.088057,    0.097777,     0.10568,     0.11254,     0.11883,     0.12478,     0.13151,     0.13694,     0.14273,     0.14838,     0.15439,     0.15932,      0.1653,     0.17044,     0.17458,     0.18078,     0.18512,     0.19038,     0.19471,\n",
      "            0.19952,     0.20386,      0.2079,      0.2126,     0.21598,     0.21973,     0.22379,     0.22851,     0.23202,     0.23577,     0.23726,     0.24269,     0.24796,     0.25295,     0.25549,     0.25828,     0.26056,     0.26472,     0.26902,     0.27033,     0.27206,     0.27594,     0.28001,\n",
      "            0.28117,     0.28466,     0.28826,     0.28877,     0.29156,     0.29393,     0.29779,     0.30059,     0.30419,     0.30763,     0.30934,     0.31129,     0.31369,     0.31621,      0.3208,      0.3248,      0.3264,     0.32673,     0.32863,     0.33151,     0.33238,     0.33131,     0.33635,\n",
      "            0.33929,     0.34147,     0.34376,     0.34649,     0.34896,     0.34896,     0.35057,      0.3515,     0.35523,     0.35648,     0.35839,     0.36106,     0.36313,     0.36493,     0.36543,     0.36754,      0.3694,     0.37156,     0.37256,     0.37495,     0.37529,     0.37834,     0.38208,\n",
      "            0.38535,     0.38684,     0.38821,     0.38858,     0.38633,     0.38784,     0.39064,     0.39187,     0.39214,     0.39263,     0.39571,      0.3969,     0.39595,      0.3932,     0.39494,     0.39753,     0.39985,     0.39931,     0.40248,     0.40411,     0.40498,     0.40514,       0.409,\n",
      "            0.40451,     0.40342,     0.40708,     0.40818,     0.40927,     0.41021,     0.41181,     0.41388,     0.41484,      0.4174,     0.41624,     0.41571,     0.41796,     0.41658,     0.41627,     0.41891,     0.42121,       0.423,     0.42555,      0.4268,     0.42831,      0.4293,     0.42782,\n",
      "            0.43144,     0.43333,     0.43192,     0.43353,     0.43212,     0.43214,     0.43214,     0.43417,     0.43567,     0.43663,     0.43764,     0.43603,     0.43584,      0.4368,     0.44014,     0.44353,     0.44434,     0.44653,     0.44735,     0.44768,     0.44861,     0.44987,     0.45005,\n",
      "            0.45153,     0.45289,     0.44986,     0.44963,     0.45057,     0.45206,     0.45121,     0.45103,     0.45202,     0.45251,     0.45298,     0.45399,     0.45695,     0.45787,      0.4573,     0.45818,     0.45656,     0.45301,     0.45304,     0.45228,     0.45357,     0.45408,     0.45455,\n",
      "            0.45594,     0.45633,     0.45734,     0.45706,     0.45799,     0.46099,     0.45699,     0.45781,     0.45997,     0.46029,     0.46051,     0.46073,     0.46096,     0.46119,     0.46142,     0.46332,     0.46483,     0.46329,     0.46369,     0.46449,     0.46629,     0.46662,     0.46696,\n",
      "            0.46789,     0.46808,     0.46827,     0.46847,     0.46882,     0.46921,     0.46741,      0.4647,     0.46672,     0.46938,      0.4703,     0.47134,     0.47155,     0.47177,     0.46949,      0.4703,     0.47221,     0.47555,     0.47635,     0.47675,      0.4753,       0.476,      0.4753,\n",
      "            0.47606,      0.4746,     0.47521,     0.47643,     0.47716,     0.47756,     0.47641,     0.47592,     0.47762,     0.47695,     0.47712,     0.47928,     0.47974,     0.48037,     0.48007,     0.47789,       0.478,     0.47812,     0.47824,     0.47835,     0.47847,     0.47859,      0.4787,\n",
      "             0.4804,     0.47891,     0.47538,     0.47355,     0.47358,     0.47413,     0.47472,     0.47683,     0.47524,     0.47441,     0.47308,      0.4739,     0.47354,     0.47196,     0.47373,     0.47458,     0.47351,     0.47359,     0.47406,     0.47455,       0.475,     0.47527,     0.47553,\n",
      "            0.47579,     0.47496,     0.47389,     0.47377,      0.4743,     0.47473,     0.47561,     0.47333,     0.47245,     0.47204,      0.4731,     0.47446,     0.47508,     0.47618,     0.47661,     0.47703,     0.46954,     0.46931,     0.46993,     0.46719,     0.46349,     0.46276,     0.46354,\n",
      "            0.46073,     0.45951,     0.45829,     0.45833,     0.45916,     0.46058,     0.45997,     0.45902,     0.45759,     0.45165,      0.4492,     0.44621,     0.44362,     0.44384,     0.44406,     0.44428,      0.4446,     0.44523,     0.44696,     0.44563,     0.44424,      0.4422,     0.44225,\n",
      "            0.44173,     0.43944,      0.4397,     0.43996,     0.44021,     0.43655,     0.43086,     0.43141,     0.43259,     0.43328,      0.4302,     0.43072,     0.43114,      0.4314,     0.43167,     0.43214,     0.43301,     0.43357,       0.434,     0.43441,       0.434,     0.43285,     0.43171,\n",
      "            0.43199,     0.42921,     0.42995,     0.43035,     0.42939,     0.42768,     0.42808,     0.42748,     0.42602,     0.42155,      0.4223,     0.42267,     0.42297,     0.42327,     0.42403,     0.42574,     0.42775,     0.42854,     0.43065,     0.42655,     0.42514,     0.42565,     0.42658,\n",
      "            0.42346,     0.42178,     0.42025,     0.41845,     0.41646,     0.41667,     0.41547,     0.41401,     0.41548,      0.4157,     0.41592,     0.41614,      0.4174,     0.41661,     0.41403,     0.41338,     0.41273,     0.41208,     0.41143,      0.4114,     0.41143,     0.41075,     0.41007,\n",
      "            0.40939,      0.4087,     0.40847,     0.40907,      0.4056,     0.40611,     0.40601,     0.40459,     0.40317,     0.40173,      0.4003,      0.3991,     0.39931,     0.39952,     0.39973,     0.39994,     0.40015,     0.40035,     0.40056,     0.40076,     0.40188,     0.40228,     0.40268,\n",
      "            0.40247,     0.40196,     0.40146,     0.40095,     0.40045,     0.39994,     0.39944,     0.39957,     0.39683,     0.39707,     0.39608,      0.3951,     0.39411,     0.39352,     0.39416,     0.39438,     0.39218,     0.39042,      0.3889,      0.3895,     0.39031,     0.38957,     0.38873,\n",
      "            0.38788,     0.38703,     0.38559,     0.38304,     0.38234,     0.37956,     0.37853,      0.3775,     0.37655,     0.37694,     0.37734,     0.37793,     0.37934,     0.37949,     0.37965,      0.3798,     0.37995,      0.3801,     0.38011,      0.3773,     0.37514,     0.37338,     0.37265,\n",
      "            0.37324,     0.37341,     0.37358,     0.37375,     0.37392,     0.37132,     0.36863,     0.36716,     0.36626,     0.36374,     0.36398,     0.36423,     0.36447,     0.36325,     0.36115,     0.35905,     0.35695,     0.35464,      0.3522,     0.35227,     0.35251,     0.35276,     0.35245,\n",
      "            0.35037,     0.34704,     0.34318,      0.3413,     0.33604,     0.33633,     0.33662,     0.32381,     0.32432,     0.32409,     0.32289,     0.32169,     0.32049,     0.32112,     0.32124,     0.32135,     0.32147,     0.32158,      0.3217,     0.32181,     0.32223,     0.31911,     0.31446,\n",
      "            0.30788,     0.30597,     0.30484,     0.30492,       0.305,     0.30507,     0.30515,     0.30523,     0.30531,     0.30538,     0.30546,     0.30553,     0.30561,     0.29732,     0.29702,     0.29795,     0.29832,     0.29858,     0.29883,     0.29921,     0.29964,     0.29961,      0.2972,\n",
      "            0.29406,     0.29196,     0.29142,     0.29087,     0.29032,     0.28978,     0.28923,     0.28868,     0.28813,     0.28759,     0.28828,     0.28911,     0.28909,     0.28789,     0.28669,      0.2855,       0.285,     0.28518,     0.28535,     0.28552,     0.28569,     0.28579,     0.28589,\n",
      "            0.28598,     0.28608,     0.28617,     0.28626,     0.28636,     0.28645,     0.28593,     0.28368,     0.28171,     0.28189,     0.28206,     0.28223,     0.28241,     0.27766,     0.27779,     0.27792,     0.27805,     0.27817,      0.2783,     0.27556,     0.27208,     0.27046,     0.26883,\n",
      "            0.26881,      0.2691,     0.26926,      0.2687,     0.26813,     0.26757,       0.267,     0.26644,     0.26587,      0.2653,     0.26474,     0.26321,     0.25989,     0.25986,     0.25477,     0.24525,     0.24303,     0.24082,     0.23857,     0.23631,     0.23482,     0.23396,      0.2331,\n",
      "            0.23223,     0.23137,     0.23051,     0.22819,     0.22487,     0.22499,     0.22512,     0.22525,     0.22538,     0.22551,     0.22592,     0.22624,     0.22637,      0.2265,     0.22662,     0.22675,     0.22687,     0.22697,     0.22706,     0.22716,     0.22725,     0.22735,     0.22744,\n",
      "            0.22754,     0.22782,     0.22811,     0.22735,      0.2259,     0.22446,     0.22301,     0.22341,     0.21792,     0.21474,     0.21284,     0.21305,     0.21325,     0.21258,     0.20796,     0.20804,     0.20811,     0.20819,     0.20826,     0.20834,     0.20841,     0.20848,     0.20856,\n",
      "            0.20737,     0.20518,      0.2032,     0.20391,     0.20416,     0.20454,     0.20385,     0.20088,      0.1957,     0.19406,     0.18872,     0.18187,     0.17934,     0.17596,     0.17199,     0.17209,     0.17218,     0.17228,     0.17237,     0.17247,     0.17129,     0.16805,     0.16588,\n",
      "            0.16451,     0.16314,     0.16176,      0.1608,     0.16092,     0.16104,     0.16115,     0.16127,     0.16078,     0.16012,     0.15946,     0.15881,     0.15815,     0.15749,     0.15684,     0.15618,     0.15552,     0.15543,     0.15554,     0.15566,     0.15578,     0.15595,      0.1562,\n",
      "            0.15671,     0.15499,     0.15274,     0.15106,     0.14975,     0.14787,       0.146,     0.14435,     0.14286,     0.14137,     0.13988,      0.1392,     0.13946,     0.12973,     0.12513,     0.12143,     0.11934,     0.11758,     0.11582,     0.11304,     0.10813,     0.10823,     0.10833,\n",
      "            0.10843,     0.10887,     0.10926,     0.10932,     0.10937,     0.10943,     0.10948,     0.10954,     0.10962,     0.10986,     0.10998,        0.11,     0.11002,     0.11003,     0.11005,     0.11007,     0.11009,     0.11011,     0.11013,     0.11015,     0.11017,     0.11018,      0.1102,\n",
      "            0.11022,     0.11024,     0.11026,     0.11028,     0.11029,     0.11031,     0.11033,      0.1099,     0.10797,     0.10604,      0.1041,     0.10401,     0.10454,     0.10475,     0.10279,    0.098276,    0.098357,    0.098435,    0.098512,    0.098588,     0.09873,    0.098871,    0.098983,\n",
      "           0.099069,    0.099153,    0.099235,    0.098677,    0.096728,    0.094777,    0.092822,    0.085745,    0.085786,    0.085827,    0.085867,    0.085907,    0.085945,    0.085984,    0.086014,    0.084939,    0.083864,    0.082788,    0.081711,    0.080633,    0.079555,    0.078967,    0.078691,\n",
      "           0.078415,    0.078138,    0.077862,    0.077585,    0.077309,    0.077032,    0.076756,    0.076479,    0.076202,    0.075925,    0.075648,    0.075371,    0.075094,    0.074817,     0.07454,    0.074263,    0.073986,    0.073709,    0.073432,    0.073154,    0.072877,    0.072599,    0.072322,\n",
      "           0.072478,    0.072514,     0.07255,    0.072585,    0.072619,    0.072653,    0.072686,    0.072718,    0.072521,    0.072232,    0.071942,    0.071653,    0.071363,    0.071073,    0.070783,    0.070494,    0.070204,    0.069914,    0.069624,    0.069334,    0.069043,    0.068753,    0.068463,\n",
      "           0.068173,    0.067882,    0.067592,    0.067301,     0.06701,     0.06672,    0.066429,    0.066138,    0.065847,    0.062728,     0.05584,    0.050393,    0.048015,    0.045633,    0.044002,     0.04336,    0.042717,    0.042074,    0.041431,    0.040787,    0.040143,    0.039499,    0.038855,\n",
      "            0.03821,    0.037565,    0.036935,    0.036373,    0.035811,    0.035249,    0.034687,    0.034125,    0.033562,       0.033,    0.032437,    0.031874,     0.03131,    0.030747,    0.030183,    0.029741,    0.029745,     0.02975,    0.029754,    0.029759,    0.029763,    0.029768,    0.029772,\n",
      "           0.029776,     0.02978,    0.029785,    0.029789,    0.029793,    0.029797,    0.029801,    0.029805,    0.029809,    0.029813,    0.029816,     0.02982,    0.029824,    0.029828,    0.029831,    0.029835,    0.029838,    0.029842,    0.029845,    0.029849,    0.022472,    0.022477,    0.022482,\n",
      "           0.022487,    0.022491,    0.022496,      0.0225,    0.022505,    0.022509,    0.022513,    0.022517,    0.022521,    0.022525,    0.022529,    0.022532,    0.022536,     0.02254,    0.022543,    0.022547,     0.02255,    0.022553,    0.022557,    0.022573,    0.022587,      0.0226,    0.022612,\n",
      "           0.022623,    0.022633,    0.022582,    0.021875,    0.021168,     0.02046,    0.019751,    0.019042,    0.018333,    0.017623,    0.016912,    0.016201,    0.015489,           0,           0,           0,           0,           0,           0,           0,           0,           0,           0,\n",
      "                  0,           0,           0,           0,           0,           0,           0,           0,           0,           0,           0,           0,           0,           0,           0,           0,           0,           0,           0,           0,           0,           0,           0,\n",
      "                  0,           0,           0,           0,           0,           0,           0,           0,           0,           0,           0,           0,           0,           0,           0,           0,           0,           0,           0,           0,           0,           0,           0,\n",
      "                  0,           0,           0,           0,           0,           0,           0,           0,           0,           0,           0]]), 'Confidence', 'F1'], [array([          0,    0.001001,    0.002002,    0.003003,    0.004004,    0.005005,    0.006006,    0.007007,    0.008008,    0.009009,     0.01001,    0.011011,    0.012012,    0.013013,    0.014014,    0.015015,    0.016016,    0.017017,    0.018018,    0.019019,     0.02002,    0.021021,    0.022022,    0.023023,\n",
      "          0.024024,    0.025025,    0.026026,    0.027027,    0.028028,    0.029029,     0.03003,    0.031031,    0.032032,    0.033033,    0.034034,    0.035035,    0.036036,    0.037037,    0.038038,    0.039039,     0.04004,    0.041041,    0.042042,    0.043043,    0.044044,    0.045045,    0.046046,    0.047047,\n",
      "          0.048048,    0.049049,     0.05005,    0.051051,    0.052052,    0.053053,    0.054054,    0.055055,    0.056056,    0.057057,    0.058058,    0.059059,     0.06006,    0.061061,    0.062062,    0.063063,    0.064064,    0.065065,    0.066066,    0.067067,    0.068068,    0.069069,     0.07007,    0.071071,\n",
      "          0.072072,    0.073073,    0.074074,    0.075075,    0.076076,    0.077077,    0.078078,    0.079079,     0.08008,    0.081081,    0.082082,    0.083083,    0.084084,    0.085085,    0.086086,    0.087087,    0.088088,    0.089089,     0.09009,    0.091091,    0.092092,    0.093093,    0.094094,    0.095095,\n",
      "          0.096096,    0.097097,    0.098098,    0.099099,      0.1001,      0.1011,      0.1021,      0.1031,      0.1041,     0.10511,     0.10611,     0.10711,     0.10811,     0.10911,     0.11011,     0.11111,     0.11211,     0.11311,     0.11411,     0.11512,     0.11612,     0.11712,     0.11812,     0.11912,\n",
      "           0.12012,     0.12112,     0.12212,     0.12312,     0.12412,     0.12513,     0.12613,     0.12713,     0.12813,     0.12913,     0.13013,     0.13113,     0.13213,     0.13313,     0.13413,     0.13514,     0.13614,     0.13714,     0.13814,     0.13914,     0.14014,     0.14114,     0.14214,     0.14314,\n",
      "           0.14414,     0.14515,     0.14615,     0.14715,     0.14815,     0.14915,     0.15015,     0.15115,     0.15215,     0.15315,     0.15415,     0.15516,     0.15616,     0.15716,     0.15816,     0.15916,     0.16016,     0.16116,     0.16216,     0.16316,     0.16416,     0.16517,     0.16617,     0.16717,\n",
      "           0.16817,     0.16917,     0.17017,     0.17117,     0.17217,     0.17317,     0.17417,     0.17518,     0.17618,     0.17718,     0.17818,     0.17918,     0.18018,     0.18118,     0.18218,     0.18318,     0.18418,     0.18519,     0.18619,     0.18719,     0.18819,     0.18919,     0.19019,     0.19119,\n",
      "           0.19219,     0.19319,     0.19419,      0.1952,      0.1962,      0.1972,      0.1982,      0.1992,      0.2002,      0.2012,      0.2022,      0.2032,      0.2042,     0.20521,     0.20621,     0.20721,     0.20821,     0.20921,     0.21021,     0.21121,     0.21221,     0.21321,     0.21421,     0.21522,\n",
      "           0.21622,     0.21722,     0.21822,     0.21922,     0.22022,     0.22122,     0.22222,     0.22322,     0.22422,     0.22523,     0.22623,     0.22723,     0.22823,     0.22923,     0.23023,     0.23123,     0.23223,     0.23323,     0.23423,     0.23524,     0.23624,     0.23724,     0.23824,     0.23924,\n",
      "           0.24024,     0.24124,     0.24224,     0.24324,     0.24424,     0.24525,     0.24625,     0.24725,     0.24825,     0.24925,     0.25025,     0.25125,     0.25225,     0.25325,     0.25425,     0.25526,     0.25626,     0.25726,     0.25826,     0.25926,     0.26026,     0.26126,     0.26226,     0.26326,\n",
      "           0.26426,     0.26527,     0.26627,     0.26727,     0.26827,     0.26927,     0.27027,     0.27127,     0.27227,     0.27327,     0.27427,     0.27528,     0.27628,     0.27728,     0.27828,     0.27928,     0.28028,     0.28128,     0.28228,     0.28328,     0.28428,     0.28529,     0.28629,     0.28729,\n",
      "           0.28829,     0.28929,     0.29029,     0.29129,     0.29229,     0.29329,     0.29429,      0.2953,      0.2963,      0.2973,      0.2983,      0.2993,      0.3003,      0.3013,      0.3023,      0.3033,      0.3043,     0.30531,     0.30631,     0.30731,     0.30831,     0.30931,     0.31031,     0.31131,\n",
      "           0.31231,     0.31331,     0.31431,     0.31532,     0.31632,     0.31732,     0.31832,     0.31932,     0.32032,     0.32132,     0.32232,     0.32332,     0.32432,     0.32533,     0.32633,     0.32733,     0.32833,     0.32933,     0.33033,     0.33133,     0.33233,     0.33333,     0.33433,     0.33534,\n",
      "           0.33634,     0.33734,     0.33834,     0.33934,     0.34034,     0.34134,     0.34234,     0.34334,     0.34434,     0.34535,     0.34635,     0.34735,     0.34835,     0.34935,     0.35035,     0.35135,     0.35235,     0.35335,     0.35435,     0.35536,     0.35636,     0.35736,     0.35836,     0.35936,\n",
      "           0.36036,     0.36136,     0.36236,     0.36336,     0.36436,     0.36537,     0.36637,     0.36737,     0.36837,     0.36937,     0.37037,     0.37137,     0.37237,     0.37337,     0.37437,     0.37538,     0.37638,     0.37738,     0.37838,     0.37938,     0.38038,     0.38138,     0.38238,     0.38338,\n",
      "           0.38438,     0.38539,     0.38639,     0.38739,     0.38839,     0.38939,     0.39039,     0.39139,     0.39239,     0.39339,     0.39439,      0.3954,      0.3964,      0.3974,      0.3984,      0.3994,      0.4004,      0.4014,      0.4024,      0.4034,      0.4044,     0.40541,     0.40641,     0.40741,\n",
      "           0.40841,     0.40941,     0.41041,     0.41141,     0.41241,     0.41341,     0.41441,     0.41542,     0.41642,     0.41742,     0.41842,     0.41942,     0.42042,     0.42142,     0.42242,     0.42342,     0.42442,     0.42543,     0.42643,     0.42743,     0.42843,     0.42943,     0.43043,     0.43143,\n",
      "           0.43243,     0.43343,     0.43443,     0.43544,     0.43644,     0.43744,     0.43844,     0.43944,     0.44044,     0.44144,     0.44244,     0.44344,     0.44444,     0.44545,     0.44645,     0.44745,     0.44845,     0.44945,     0.45045,     0.45145,     0.45245,     0.45345,     0.45445,     0.45546,\n",
      "           0.45646,     0.45746,     0.45846,     0.45946,     0.46046,     0.46146,     0.46246,     0.46346,     0.46446,     0.46547,     0.46647,     0.46747,     0.46847,     0.46947,     0.47047,     0.47147,     0.47247,     0.47347,     0.47447,     0.47548,     0.47648,     0.47748,     0.47848,     0.47948,\n",
      "           0.48048,     0.48148,     0.48248,     0.48348,     0.48448,     0.48549,     0.48649,     0.48749,     0.48849,     0.48949,     0.49049,     0.49149,     0.49249,     0.49349,     0.49449,      0.4955,      0.4965,      0.4975,      0.4985,      0.4995,      0.5005,      0.5015,      0.5025,      0.5035,\n",
      "            0.5045,     0.50551,     0.50651,     0.50751,     0.50851,     0.50951,     0.51051,     0.51151,     0.51251,     0.51351,     0.51451,     0.51552,     0.51652,     0.51752,     0.51852,     0.51952,     0.52052,     0.52152,     0.52252,     0.52352,     0.52452,     0.52553,     0.52653,     0.52753,\n",
      "           0.52853,     0.52953,     0.53053,     0.53153,     0.53253,     0.53353,     0.53453,     0.53554,     0.53654,     0.53754,     0.53854,     0.53954,     0.54054,     0.54154,     0.54254,     0.54354,     0.54454,     0.54555,     0.54655,     0.54755,     0.54855,     0.54955,     0.55055,     0.55155,\n",
      "           0.55255,     0.55355,     0.55455,     0.55556,     0.55656,     0.55756,     0.55856,     0.55956,     0.56056,     0.56156,     0.56256,     0.56356,     0.56456,     0.56557,     0.56657,     0.56757,     0.56857,     0.56957,     0.57057,     0.57157,     0.57257,     0.57357,     0.57457,     0.57558,\n",
      "           0.57658,     0.57758,     0.57858,     0.57958,     0.58058,     0.58158,     0.58258,     0.58358,     0.58458,     0.58559,     0.58659,     0.58759,     0.58859,     0.58959,     0.59059,     0.59159,     0.59259,     0.59359,     0.59459,      0.5956,      0.5966,      0.5976,      0.5986,      0.5996,\n",
      "            0.6006,      0.6016,      0.6026,      0.6036,      0.6046,     0.60561,     0.60661,     0.60761,     0.60861,     0.60961,     0.61061,     0.61161,     0.61261,     0.61361,     0.61461,     0.61562,     0.61662,     0.61762,     0.61862,     0.61962,     0.62062,     0.62162,     0.62262,     0.62362,\n",
      "           0.62462,     0.62563,     0.62663,     0.62763,     0.62863,     0.62963,     0.63063,     0.63163,     0.63263,     0.63363,     0.63463,     0.63564,     0.63664,     0.63764,     0.63864,     0.63964,     0.64064,     0.64164,     0.64264,     0.64364,     0.64464,     0.64565,     0.64665,     0.64765,\n",
      "           0.64865,     0.64965,     0.65065,     0.65165,     0.65265,     0.65365,     0.65465,     0.65566,     0.65666,     0.65766,     0.65866,     0.65966,     0.66066,     0.66166,     0.66266,     0.66366,     0.66466,     0.66567,     0.66667,     0.66767,     0.66867,     0.66967,     0.67067,     0.67167,\n",
      "           0.67267,     0.67367,     0.67467,     0.67568,     0.67668,     0.67768,     0.67868,     0.67968,     0.68068,     0.68168,     0.68268,     0.68368,     0.68468,     0.68569,     0.68669,     0.68769,     0.68869,     0.68969,     0.69069,     0.69169,     0.69269,     0.69369,     0.69469,      0.6957,\n",
      "            0.6967,      0.6977,      0.6987,      0.6997,      0.7007,      0.7017,      0.7027,      0.7037,      0.7047,     0.70571,     0.70671,     0.70771,     0.70871,     0.70971,     0.71071,     0.71171,     0.71271,     0.71371,     0.71471,     0.71572,     0.71672,     0.71772,     0.71872,     0.71972,\n",
      "           0.72072,     0.72172,     0.72272,     0.72372,     0.72472,     0.72573,     0.72673,     0.72773,     0.72873,     0.72973,     0.73073,     0.73173,     0.73273,     0.73373,     0.73473,     0.73574,     0.73674,     0.73774,     0.73874,     0.73974,     0.74074,     0.74174,     0.74274,     0.74374,\n",
      "           0.74474,     0.74575,     0.74675,     0.74775,     0.74875,     0.74975,     0.75075,     0.75175,     0.75275,     0.75375,     0.75475,     0.75576,     0.75676,     0.75776,     0.75876,     0.75976,     0.76076,     0.76176,     0.76276,     0.76376,     0.76476,     0.76577,     0.76677,     0.76777,\n",
      "           0.76877,     0.76977,     0.77077,     0.77177,     0.77277,     0.77377,     0.77477,     0.77578,     0.77678,     0.77778,     0.77878,     0.77978,     0.78078,     0.78178,     0.78278,     0.78378,     0.78478,     0.78579,     0.78679,     0.78779,     0.78879,     0.78979,     0.79079,     0.79179,\n",
      "           0.79279,     0.79379,     0.79479,      0.7958,      0.7968,      0.7978,      0.7988,      0.7998,      0.8008,      0.8018,      0.8028,      0.8038,      0.8048,     0.80581,     0.80681,     0.80781,     0.80881,     0.80981,     0.81081,     0.81181,     0.81281,     0.81381,     0.81481,     0.81582,\n",
      "           0.81682,     0.81782,     0.81882,     0.81982,     0.82082,     0.82182,     0.82282,     0.82382,     0.82482,     0.82583,     0.82683,     0.82783,     0.82883,     0.82983,     0.83083,     0.83183,     0.83283,     0.83383,     0.83483,     0.83584,     0.83684,     0.83784,     0.83884,     0.83984,\n",
      "           0.84084,     0.84184,     0.84284,     0.84384,     0.84484,     0.84585,     0.84685,     0.84785,     0.84885,     0.84985,     0.85085,     0.85185,     0.85285,     0.85385,     0.85485,     0.85586,     0.85686,     0.85786,     0.85886,     0.85986,     0.86086,     0.86186,     0.86286,     0.86386,\n",
      "           0.86486,     0.86587,     0.86687,     0.86787,     0.86887,     0.86987,     0.87087,     0.87187,     0.87287,     0.87387,     0.87487,     0.87588,     0.87688,     0.87788,     0.87888,     0.87988,     0.88088,     0.88188,     0.88288,     0.88388,     0.88488,     0.88589,     0.88689,     0.88789,\n",
      "           0.88889,     0.88989,     0.89089,     0.89189,     0.89289,     0.89389,     0.89489,      0.8959,      0.8969,      0.8979,      0.8989,      0.8999,      0.9009,      0.9019,      0.9029,      0.9039,      0.9049,     0.90591,     0.90691,     0.90791,     0.90891,     0.90991,     0.91091,     0.91191,\n",
      "           0.91291,     0.91391,     0.91491,     0.91592,     0.91692,     0.91792,     0.91892,     0.91992,     0.92092,     0.92192,     0.92292,     0.92392,     0.92492,     0.92593,     0.92693,     0.92793,     0.92893,     0.92993,     0.93093,     0.93193,     0.93293,     0.93393,     0.93493,     0.93594,\n",
      "           0.93694,     0.93794,     0.93894,     0.93994,     0.94094,     0.94194,     0.94294,     0.94394,     0.94494,     0.94595,     0.94695,     0.94795,     0.94895,     0.94995,     0.95095,     0.95195,     0.95295,     0.95395,     0.95495,     0.95596,     0.95696,     0.95796,     0.95896,     0.95996,\n",
      "           0.96096,     0.96196,     0.96296,     0.96396,     0.96496,     0.96597,     0.96697,     0.96797,     0.96897,     0.96997,     0.97097,     0.97197,     0.97297,     0.97397,     0.97497,     0.97598,     0.97698,     0.97798,     0.97898,     0.97998,     0.98098,     0.98198,     0.98298,     0.98398,\n",
      "           0.98498,     0.98599,     0.98699,     0.98799,     0.98899,     0.98999,     0.99099,     0.99199,     0.99299,     0.99399,     0.99499,       0.996,       0.997,       0.998,       0.999,           1]), array([[   0.023627,    0.023641,    0.032848,    0.040125,    0.046291,     0.05172,     0.05618,    0.060105,    0.063748,    0.067234,    0.071157,    0.074376,    0.077802,    0.081204,    0.084821,    0.087804,    0.091449,    0.094611,    0.097216,     0.10108,      0.1038,     0.10712,     0.10986,\n",
      "            0.11307,     0.11594,     0.11856,     0.12163,     0.12385,     0.12632,      0.1291,     0.13225,     0.13461,     0.13724,     0.13846,     0.14217,     0.14581,     0.14927,     0.15117,     0.15313,     0.15487,     0.15796,     0.16103,     0.16227,     0.16368,     0.16666,     0.16963,\n",
      "            0.17084,     0.17342,      0.1761,     0.17687,     0.17916,     0.18116,      0.1841,     0.18647,     0.18925,     0.19191,      0.1934,     0.19526,      0.1974,     0.19941,     0.20307,     0.20629,     0.20786,     0.20842,     0.21014,     0.21263,     0.21365,     0.21339,      0.2176,\n",
      "            0.22007,     0.22225,     0.22454,     0.22725,     0.22951,     0.22976,     0.23155,     0.23276,     0.23604,     0.23715,     0.23884,     0.24122,     0.24307,     0.24469,     0.24558,     0.24749,     0.24919,     0.25115,     0.25206,     0.25426,     0.25506,     0.25788,     0.26138,\n",
      "            0.26445,     0.26585,     0.26715,     0.26805,       0.267,     0.26845,     0.27114,     0.27233,     0.27317,     0.27365,     0.27665,     0.27782,      0.2775,     0.27657,     0.27839,     0.28096,     0.28329,     0.28341,     0.28662,     0.28827,     0.28916,     0.29003,       0.294,\n",
      "            0.29156,     0.29118,       0.295,     0.29694,      0.2981,     0.29909,      0.3008,     0.30301,     0.30405,     0.30681,     0.30681,     0.30668,     0.30929,      0.3085,     0.30905,     0.31197,     0.31453,     0.31653,     0.31939,      0.3208,     0.32251,     0.32364,     0.32294,\n",
      "            0.32709,     0.32926,     0.32866,     0.33054,     0.32967,     0.32997,     0.33104,     0.33343,      0.3352,     0.33634,     0.33783,     0.33741,     0.33766,     0.33882,     0.34285,     0.34698,     0.34798,     0.35067,     0.35168,     0.35209,     0.35325,     0.35481,     0.35632,\n",
      "             0.3595,     0.36124,     0.36009,     0.36119,     0.36241,     0.36434,     0.36427,     0.36444,     0.36573,     0.36637,     0.36698,     0.36831,     0.37222,     0.37345,       0.374,      0.3754,     0.37479,     0.37253,      0.3732,     0.37378,     0.37554,     0.37625,     0.37689,\n",
      "            0.37881,     0.37935,     0.38075,     0.38104,     0.38336,     0.38782,     0.38548,     0.38664,     0.38974,      0.3902,     0.39052,     0.39084,     0.39117,      0.3915,     0.39183,     0.39458,     0.39677,     0.39645,     0.39746,     0.40018,     0.40286,     0.40336,     0.40385,\n",
      "            0.40524,     0.40553,     0.40582,     0.40612,     0.40665,     0.40723,     0.40606,     0.40458,     0.40765,     0.41172,     0.41315,     0.41475,     0.41509,     0.41542,     0.41411,     0.41536,     0.41835,     0.42363,      0.4249,     0.42605,     0.42507,     0.42779,       0.428,\n",
      "            0.42923,     0.42934,     0.43033,     0.43233,     0.43354,      0.4342,     0.43353,     0.43406,     0.43689,     0.43716,     0.43872,     0.44237,     0.44316,     0.44424,     0.44525,     0.44556,     0.44577,     0.44597,     0.44617,     0.44638,     0.44658,     0.44678,     0.44699,\n",
      "            0.44998,     0.44897,     0.44656,     0.44624,     0.44676,     0.44774,      0.4488,     0.45322,     0.45213,     0.45254,     0.45203,     0.45353,     0.45392,     0.45317,     0.45645,     0.45804,     0.45796,     0.45953,      0.4604,     0.46133,     0.46219,     0.46269,     0.46318,\n",
      "            0.46368,     0.46316,     0.46243,     0.46329,     0.46431,     0.46514,     0.46682,     0.46597,     0.46582,     0.46708,     0.46917,     0.47186,     0.47308,     0.47526,     0.47612,     0.47696,     0.47188,     0.47303,     0.47429,     0.47268,      0.4713,     0.47165,     0.47327,\n",
      "            0.47185,     0.47099,     0.47014,     0.47073,     0.47248,     0.47551,     0.47645,     0.47653,     0.47608,      0.4732,     0.47323,     0.47201,     0.47024,     0.47074,     0.47123,     0.47173,     0.47245,     0.47388,     0.47781,     0.47716,     0.47654,     0.47612,     0.47701,\n",
      "            0.47722,     0.47559,      0.4762,      0.4768,     0.47741,     0.47492,     0.47112,     0.47244,     0.47528,     0.47693,     0.47475,     0.47627,     0.47728,     0.47793,     0.47858,     0.47974,     0.48188,     0.48328,     0.48436,     0.48537,     0.48541,     0.48456,     0.48372,\n",
      "            0.48518,      0.4835,     0.48598,     0.48701,     0.48695,     0.48629,     0.48733,     0.48722,     0.48613,     0.48287,     0.48484,     0.48582,     0.48661,     0.48741,     0.48943,       0.494,     0.49947,     0.50161,     0.50744,     0.50658,     0.50629,     0.50773,     0.51057,\n",
      "            0.50824,     0.50698,     0.50583,     0.50447,     0.50297,     0.50434,     0.50424,     0.50429,     0.50867,     0.50933,     0.50999,     0.51065,     0.51446,     0.51566,      0.5137,     0.51321,     0.51271,     0.51222,     0.51172,     0.51274,     0.51393,      0.5134,     0.51288,\n",
      "            0.51236,     0.51184,     0.51215,     0.51406,     0.51184,     0.51349,     0.51427,     0.51317,     0.51206,     0.51095,     0.50983,     0.50897,     0.50966,     0.51035,     0.51103,     0.51172,      0.5124,     0.51306,     0.51373,      0.5144,     0.51812,     0.51946,     0.52079,\n",
      "            0.52094,     0.52055,     0.52016,     0.51977,     0.51937,     0.51898,     0.51859,     0.52002,     0.51899,     0.52167,     0.52089,     0.52011,     0.51933,      0.5193,     0.52154,     0.52464,      0.5229,     0.52151,     0.52029,     0.52625,     0.52921,     0.52878,     0.52811,\n",
      "            0.52743,     0.52676,     0.52561,     0.52356,     0.52852,     0.52627,     0.52543,      0.5246,      0.5239,     0.52542,     0.52695,     0.52927,     0.53484,     0.53545,     0.53606,     0.53667,     0.53727,     0.53788,     0.53835,     0.53607,     0.53431,     0.53287,     0.53374,\n",
      "            0.53616,     0.53686,     0.53756,     0.53826,     0.53897,     0.53731,      0.5351,     0.53388,     0.53629,     0.53778,     0.53884,     0.53989,     0.54095,     0.54026,      0.5385,     0.53673,     0.53496,     0.53299,      0.5309,     0.53181,     0.53292,     0.53403,     0.53446,\n",
      "            0.53267,     0.52979,     0.52642,     0.52477,     0.52059,     0.52199,      0.5234,     0.51264,      0.5152,     0.51619,     0.51508,     0.51397,     0.51286,     0.51732,     0.51791,     0.51851,     0.51911,     0.51971,     0.52031,      0.5209,     0.52313,     0.52248,     0.51813,\n",
      "            0.51188,     0.51004,      0.5091,     0.50953,     0.50996,     0.51039,     0.51082,     0.51125,     0.51168,     0.51211,     0.51255,     0.51298,     0.51341,      0.5054,     0.50765,     0.51309,     0.51534,     0.51685,     0.51836,     0.52064,     0.52329,     0.52792,     0.52556,\n",
      "            0.52245,      0.5247,     0.52415,      0.5236,     0.52305,      0.5225,     0.52195,      0.5214,     0.52085,      0.5203,     0.52651,     0.53211,     0.53547,     0.53426,     0.53305,     0.53184,     0.53187,     0.53307,     0.53426,     0.53546,     0.53666,     0.53741,     0.53807,\n",
      "            0.53874,      0.5394,     0.54007,     0.54073,      0.5414,     0.54206,     0.54196,     0.53966,     0.53778,     0.53906,     0.54034,     0.54162,      0.5429,     0.53874,     0.53972,      0.5407,     0.54167,     0.54265,     0.54363,     0.54147,     0.53781,     0.53609,     0.53436,\n",
      "              0.536,     0.53827,     0.54015,     0.53954,     0.53893,     0.53832,     0.53771,     0.53711,      0.5365,     0.53589,     0.53528,     0.53362,     0.52998,     0.53356,     0.52978,     0.52457,     0.52198,     0.51939,     0.51672,     0.51403,     0.51224,      0.5112,     0.51015,\n",
      "             0.5091,     0.50805,     0.50701,     0.50414,     0.50013,     0.50142,      0.5027,     0.50399,     0.50528,     0.50656,     0.51075,     0.51401,     0.51535,     0.51668,     0.51801,     0.51934,     0.52064,     0.52164,     0.52265,     0.52366,     0.52467,     0.52567,     0.52668,\n",
      "            0.52769,     0.53072,     0.53394,     0.53412,     0.53232,     0.53052,     0.52871,     0.53603,     0.52907,     0.52495,     0.52332,     0.52577,     0.52822,     0.52919,     0.52323,     0.52418,     0.52513,     0.52608,     0.52703,     0.52798,     0.52893,     0.52988,     0.53083,\n",
      "             0.5296,     0.52664,     0.52546,     0.53507,     0.53853,     0.54387,     0.54847,     0.54443,     0.53722,     0.53927,     0.53578,     0.53449,     0.53066,     0.52545,     0.51952,     0.52128,     0.52304,      0.5248,     0.52656,     0.52832,     0.52743,     0.52222,     0.51869,\n",
      "            0.51641,     0.51413,     0.51185,     0.51086,     0.51323,     0.51559,     0.51796,     0.52032,     0.51995,     0.51883,      0.5177,     0.51658,     0.51545,     0.51432,      0.5132,     0.51207,     0.51095,     0.51252,      0.5151,     0.51769,     0.52027,     0.52418,     0.52981,\n",
      "            0.54169,     0.54218,     0.53825,      0.5409,     0.54478,     0.54139,       0.538,     0.53495,     0.53214,     0.52933,     0.52652,     0.52856,     0.53635,     0.51891,     0.50928,     0.50133,     0.49669,     0.49272,     0.48875,     0.48229,     0.47134,     0.47529,     0.47925,\n",
      "             0.4832,     0.50108,     0.51805,     0.52065,     0.52325,     0.52585,     0.52844,     0.53104,     0.53473,     0.54667,     0.55228,     0.55325,     0.55422,     0.55519,     0.55616,     0.55713,     0.55809,     0.55906,     0.56003,       0.561,     0.56197,     0.56294,     0.56391,\n",
      "            0.56487,     0.56584,     0.56681,     0.56778,     0.56875,     0.56972,     0.57069,     0.57034,     0.56565,     0.56096,     0.55627,     0.56729,     0.60097,       0.615,     0.61984,     0.61107,     0.61732,     0.62357,     0.62982,     0.63607,     0.64813,     0.66048,     0.67064,\n",
      "            0.67861,     0.68658,     0.69454,     0.69856,     0.69401,     0.68945,      0.6849,     0.67043,      0.6755,     0.68057,     0.68564,     0.69071,     0.69578,     0.70085,     0.70586,     0.70299,     0.70011,     0.69724,     0.69436,     0.69149,     0.68861,     0.68699,     0.68616,\n",
      "            0.68533,     0.68449,     0.68366,     0.68283,       0.682,     0.68117,     0.68034,      0.6795,     0.67867,     0.67784,     0.67701,     0.67618,     0.67534,     0.67451,     0.67368,     0.67285,     0.67202,     0.67118,     0.67035,     0.66952,     0.66869,     0.66786,     0.66703,\n",
      "            0.71707,     0.72423,     0.73139,     0.73854,      0.7457,     0.75286,     0.76001,     0.76717,     0.76867,     0.76787,     0.76708,     0.76629,     0.76549,      0.7647,     0.76391,     0.76311,     0.76232,     0.76153,     0.76073,     0.75994,     0.75915,     0.75835,     0.75756,\n",
      "            0.75677,     0.75597,     0.75518,     0.75439,     0.75359,      0.7528,     0.75201,     0.75121,     0.75042,     0.74047,     0.71668,     0.69499,     0.68396,     0.67293,     0.66506,     0.66136,     0.65766,     0.65395,     0.65025,     0.64655,     0.64284,     0.63914,     0.63544,\n",
      "            0.63173,     0.62803,     0.62425,     0.62012,     0.61599,     0.61185,     0.60772,     0.60359,     0.59946,     0.59533,      0.5912,     0.58707,     0.58294,     0.57881,     0.57468,     0.57216,      0.5756,     0.57903,     0.58247,      0.5859,     0.58933,     0.59277,      0.5962,\n",
      "            0.59964,     0.60307,      0.6065,     0.60994,     0.61337,     0.61681,     0.62024,     0.62367,     0.62711,     0.63054,     0.63398,     0.63741,     0.64084,     0.64428,     0.64771,     0.65115,     0.65458,     0.65801,     0.66145,     0.66488,     0.60058,     0.60772,     0.61485,\n",
      "            0.62199,     0.62913,     0.63627,      0.6434,     0.65054,     0.65768,     0.66481,     0.67195,     0.67909,     0.68623,     0.69336,      0.7005,     0.70764,     0.71477,     0.72191,     0.72905,     0.73619,     0.74332,     0.75231,     0.78813,     0.82394,     0.85975,     0.89557,\n",
      "            0.93138,      0.9672,           1,           1,           1,           1,           1,           1,           1,           1,           1,           1,           1,           1,           1,           1,           1,           1,           1,           1,           1,           1,           1,\n",
      "                  1,           1,           1,           1,           1,           1,           1,           1,           1,           1,           1,           1,           1,           1,           1,           1,           1,           1,           1,           1,           1,           1,           1,\n",
      "                  1,           1,           1,           1,           1,           1,           1,           1,           1,           1,           1,           1,           1,           1,           1,           1,           1,           1,           1,           1,           1,           1,           1,\n",
      "                  1,           1,           1,           1,           1,           1,           1,           1,           1,           1,           1]]), 'Confidence', 'Precision'], [array([          0,    0.001001,    0.002002,    0.003003,    0.004004,    0.005005,    0.006006,    0.007007,    0.008008,    0.009009,     0.01001,    0.011011,    0.012012,    0.013013,    0.014014,    0.015015,    0.016016,    0.017017,    0.018018,    0.019019,     0.02002,    0.021021,    0.022022,    0.023023,\n",
      "          0.024024,    0.025025,    0.026026,    0.027027,    0.028028,    0.029029,     0.03003,    0.031031,    0.032032,    0.033033,    0.034034,    0.035035,    0.036036,    0.037037,    0.038038,    0.039039,     0.04004,    0.041041,    0.042042,    0.043043,    0.044044,    0.045045,    0.046046,    0.047047,\n",
      "          0.048048,    0.049049,     0.05005,    0.051051,    0.052052,    0.053053,    0.054054,    0.055055,    0.056056,    0.057057,    0.058058,    0.059059,     0.06006,    0.061061,    0.062062,    0.063063,    0.064064,    0.065065,    0.066066,    0.067067,    0.068068,    0.069069,     0.07007,    0.071071,\n",
      "          0.072072,    0.073073,    0.074074,    0.075075,    0.076076,    0.077077,    0.078078,    0.079079,     0.08008,    0.081081,    0.082082,    0.083083,    0.084084,    0.085085,    0.086086,    0.087087,    0.088088,    0.089089,     0.09009,    0.091091,    0.092092,    0.093093,    0.094094,    0.095095,\n",
      "          0.096096,    0.097097,    0.098098,    0.099099,      0.1001,      0.1011,      0.1021,      0.1031,      0.1041,     0.10511,     0.10611,     0.10711,     0.10811,     0.10911,     0.11011,     0.11111,     0.11211,     0.11311,     0.11411,     0.11512,     0.11612,     0.11712,     0.11812,     0.11912,\n",
      "           0.12012,     0.12112,     0.12212,     0.12312,     0.12412,     0.12513,     0.12613,     0.12713,     0.12813,     0.12913,     0.13013,     0.13113,     0.13213,     0.13313,     0.13413,     0.13514,     0.13614,     0.13714,     0.13814,     0.13914,     0.14014,     0.14114,     0.14214,     0.14314,\n",
      "           0.14414,     0.14515,     0.14615,     0.14715,     0.14815,     0.14915,     0.15015,     0.15115,     0.15215,     0.15315,     0.15415,     0.15516,     0.15616,     0.15716,     0.15816,     0.15916,     0.16016,     0.16116,     0.16216,     0.16316,     0.16416,     0.16517,     0.16617,     0.16717,\n",
      "           0.16817,     0.16917,     0.17017,     0.17117,     0.17217,     0.17317,     0.17417,     0.17518,     0.17618,     0.17718,     0.17818,     0.17918,     0.18018,     0.18118,     0.18218,     0.18318,     0.18418,     0.18519,     0.18619,     0.18719,     0.18819,     0.18919,     0.19019,     0.19119,\n",
      "           0.19219,     0.19319,     0.19419,      0.1952,      0.1962,      0.1972,      0.1982,      0.1992,      0.2002,      0.2012,      0.2022,      0.2032,      0.2042,     0.20521,     0.20621,     0.20721,     0.20821,     0.20921,     0.21021,     0.21121,     0.21221,     0.21321,     0.21421,     0.21522,\n",
      "           0.21622,     0.21722,     0.21822,     0.21922,     0.22022,     0.22122,     0.22222,     0.22322,     0.22422,     0.22523,     0.22623,     0.22723,     0.22823,     0.22923,     0.23023,     0.23123,     0.23223,     0.23323,     0.23423,     0.23524,     0.23624,     0.23724,     0.23824,     0.23924,\n",
      "           0.24024,     0.24124,     0.24224,     0.24324,     0.24424,     0.24525,     0.24625,     0.24725,     0.24825,     0.24925,     0.25025,     0.25125,     0.25225,     0.25325,     0.25425,     0.25526,     0.25626,     0.25726,     0.25826,     0.25926,     0.26026,     0.26126,     0.26226,     0.26326,\n",
      "           0.26426,     0.26527,     0.26627,     0.26727,     0.26827,     0.26927,     0.27027,     0.27127,     0.27227,     0.27327,     0.27427,     0.27528,     0.27628,     0.27728,     0.27828,     0.27928,     0.28028,     0.28128,     0.28228,     0.28328,     0.28428,     0.28529,     0.28629,     0.28729,\n",
      "           0.28829,     0.28929,     0.29029,     0.29129,     0.29229,     0.29329,     0.29429,      0.2953,      0.2963,      0.2973,      0.2983,      0.2993,      0.3003,      0.3013,      0.3023,      0.3033,      0.3043,     0.30531,     0.30631,     0.30731,     0.30831,     0.30931,     0.31031,     0.31131,\n",
      "           0.31231,     0.31331,     0.31431,     0.31532,     0.31632,     0.31732,     0.31832,     0.31932,     0.32032,     0.32132,     0.32232,     0.32332,     0.32432,     0.32533,     0.32633,     0.32733,     0.32833,     0.32933,     0.33033,     0.33133,     0.33233,     0.33333,     0.33433,     0.33534,\n",
      "           0.33634,     0.33734,     0.33834,     0.33934,     0.34034,     0.34134,     0.34234,     0.34334,     0.34434,     0.34535,     0.34635,     0.34735,     0.34835,     0.34935,     0.35035,     0.35135,     0.35235,     0.35335,     0.35435,     0.35536,     0.35636,     0.35736,     0.35836,     0.35936,\n",
      "           0.36036,     0.36136,     0.36236,     0.36336,     0.36436,     0.36537,     0.36637,     0.36737,     0.36837,     0.36937,     0.37037,     0.37137,     0.37237,     0.37337,     0.37437,     0.37538,     0.37638,     0.37738,     0.37838,     0.37938,     0.38038,     0.38138,     0.38238,     0.38338,\n",
      "           0.38438,     0.38539,     0.38639,     0.38739,     0.38839,     0.38939,     0.39039,     0.39139,     0.39239,     0.39339,     0.39439,      0.3954,      0.3964,      0.3974,      0.3984,      0.3994,      0.4004,      0.4014,      0.4024,      0.4034,      0.4044,     0.40541,     0.40641,     0.40741,\n",
      "           0.40841,     0.40941,     0.41041,     0.41141,     0.41241,     0.41341,     0.41441,     0.41542,     0.41642,     0.41742,     0.41842,     0.41942,     0.42042,     0.42142,     0.42242,     0.42342,     0.42442,     0.42543,     0.42643,     0.42743,     0.42843,     0.42943,     0.43043,     0.43143,\n",
      "           0.43243,     0.43343,     0.43443,     0.43544,     0.43644,     0.43744,     0.43844,     0.43944,     0.44044,     0.44144,     0.44244,     0.44344,     0.44444,     0.44545,     0.44645,     0.44745,     0.44845,     0.44945,     0.45045,     0.45145,     0.45245,     0.45345,     0.45445,     0.45546,\n",
      "           0.45646,     0.45746,     0.45846,     0.45946,     0.46046,     0.46146,     0.46246,     0.46346,     0.46446,     0.46547,     0.46647,     0.46747,     0.46847,     0.46947,     0.47047,     0.47147,     0.47247,     0.47347,     0.47447,     0.47548,     0.47648,     0.47748,     0.47848,     0.47948,\n",
      "           0.48048,     0.48148,     0.48248,     0.48348,     0.48448,     0.48549,     0.48649,     0.48749,     0.48849,     0.48949,     0.49049,     0.49149,     0.49249,     0.49349,     0.49449,      0.4955,      0.4965,      0.4975,      0.4985,      0.4995,      0.5005,      0.5015,      0.5025,      0.5035,\n",
      "            0.5045,     0.50551,     0.50651,     0.50751,     0.50851,     0.50951,     0.51051,     0.51151,     0.51251,     0.51351,     0.51451,     0.51552,     0.51652,     0.51752,     0.51852,     0.51952,     0.52052,     0.52152,     0.52252,     0.52352,     0.52452,     0.52553,     0.52653,     0.52753,\n",
      "           0.52853,     0.52953,     0.53053,     0.53153,     0.53253,     0.53353,     0.53453,     0.53554,     0.53654,     0.53754,     0.53854,     0.53954,     0.54054,     0.54154,     0.54254,     0.54354,     0.54454,     0.54555,     0.54655,     0.54755,     0.54855,     0.54955,     0.55055,     0.55155,\n",
      "           0.55255,     0.55355,     0.55455,     0.55556,     0.55656,     0.55756,     0.55856,     0.55956,     0.56056,     0.56156,     0.56256,     0.56356,     0.56456,     0.56557,     0.56657,     0.56757,     0.56857,     0.56957,     0.57057,     0.57157,     0.57257,     0.57357,     0.57457,     0.57558,\n",
      "           0.57658,     0.57758,     0.57858,     0.57958,     0.58058,     0.58158,     0.58258,     0.58358,     0.58458,     0.58559,     0.58659,     0.58759,     0.58859,     0.58959,     0.59059,     0.59159,     0.59259,     0.59359,     0.59459,      0.5956,      0.5966,      0.5976,      0.5986,      0.5996,\n",
      "            0.6006,      0.6016,      0.6026,      0.6036,      0.6046,     0.60561,     0.60661,     0.60761,     0.60861,     0.60961,     0.61061,     0.61161,     0.61261,     0.61361,     0.61461,     0.61562,     0.61662,     0.61762,     0.61862,     0.61962,     0.62062,     0.62162,     0.62262,     0.62362,\n",
      "           0.62462,     0.62563,     0.62663,     0.62763,     0.62863,     0.62963,     0.63063,     0.63163,     0.63263,     0.63363,     0.63463,     0.63564,     0.63664,     0.63764,     0.63864,     0.63964,     0.64064,     0.64164,     0.64264,     0.64364,     0.64464,     0.64565,     0.64665,     0.64765,\n",
      "           0.64865,     0.64965,     0.65065,     0.65165,     0.65265,     0.65365,     0.65465,     0.65566,     0.65666,     0.65766,     0.65866,     0.65966,     0.66066,     0.66166,     0.66266,     0.66366,     0.66466,     0.66567,     0.66667,     0.66767,     0.66867,     0.66967,     0.67067,     0.67167,\n",
      "           0.67267,     0.67367,     0.67467,     0.67568,     0.67668,     0.67768,     0.67868,     0.67968,     0.68068,     0.68168,     0.68268,     0.68368,     0.68468,     0.68569,     0.68669,     0.68769,     0.68869,     0.68969,     0.69069,     0.69169,     0.69269,     0.69369,     0.69469,      0.6957,\n",
      "            0.6967,      0.6977,      0.6987,      0.6997,      0.7007,      0.7017,      0.7027,      0.7037,      0.7047,     0.70571,     0.70671,     0.70771,     0.70871,     0.70971,     0.71071,     0.71171,     0.71271,     0.71371,     0.71471,     0.71572,     0.71672,     0.71772,     0.71872,     0.71972,\n",
      "           0.72072,     0.72172,     0.72272,     0.72372,     0.72472,     0.72573,     0.72673,     0.72773,     0.72873,     0.72973,     0.73073,     0.73173,     0.73273,     0.73373,     0.73473,     0.73574,     0.73674,     0.73774,     0.73874,     0.73974,     0.74074,     0.74174,     0.74274,     0.74374,\n",
      "           0.74474,     0.74575,     0.74675,     0.74775,     0.74875,     0.74975,     0.75075,     0.75175,     0.75275,     0.75375,     0.75475,     0.75576,     0.75676,     0.75776,     0.75876,     0.75976,     0.76076,     0.76176,     0.76276,     0.76376,     0.76476,     0.76577,     0.76677,     0.76777,\n",
      "           0.76877,     0.76977,     0.77077,     0.77177,     0.77277,     0.77377,     0.77477,     0.77578,     0.77678,     0.77778,     0.77878,     0.77978,     0.78078,     0.78178,     0.78278,     0.78378,     0.78478,     0.78579,     0.78679,     0.78779,     0.78879,     0.78979,     0.79079,     0.79179,\n",
      "           0.79279,     0.79379,     0.79479,      0.7958,      0.7968,      0.7978,      0.7988,      0.7998,      0.8008,      0.8018,      0.8028,      0.8038,      0.8048,     0.80581,     0.80681,     0.80781,     0.80881,     0.80981,     0.81081,     0.81181,     0.81281,     0.81381,     0.81481,     0.81582,\n",
      "           0.81682,     0.81782,     0.81882,     0.81982,     0.82082,     0.82182,     0.82282,     0.82382,     0.82482,     0.82583,     0.82683,     0.82783,     0.82883,     0.82983,     0.83083,     0.83183,     0.83283,     0.83383,     0.83483,     0.83584,     0.83684,     0.83784,     0.83884,     0.83984,\n",
      "           0.84084,     0.84184,     0.84284,     0.84384,     0.84484,     0.84585,     0.84685,     0.84785,     0.84885,     0.84985,     0.85085,     0.85185,     0.85285,     0.85385,     0.85485,     0.85586,     0.85686,     0.85786,     0.85886,     0.85986,     0.86086,     0.86186,     0.86286,     0.86386,\n",
      "           0.86486,     0.86587,     0.86687,     0.86787,     0.86887,     0.86987,     0.87087,     0.87187,     0.87287,     0.87387,     0.87487,     0.87588,     0.87688,     0.87788,     0.87888,     0.87988,     0.88088,     0.88188,     0.88288,     0.88388,     0.88488,     0.88589,     0.88689,     0.88789,\n",
      "           0.88889,     0.88989,     0.89089,     0.89189,     0.89289,     0.89389,     0.89489,      0.8959,      0.8969,      0.8979,      0.8989,      0.8999,      0.9009,      0.9019,      0.9029,      0.9039,      0.9049,     0.90591,     0.90691,     0.90791,     0.90891,     0.90991,     0.91091,     0.91191,\n",
      "           0.91291,     0.91391,     0.91491,     0.91592,     0.91692,     0.91792,     0.91892,     0.91992,     0.92092,     0.92192,     0.92292,     0.92392,     0.92492,     0.92593,     0.92693,     0.92793,     0.92893,     0.92993,     0.93093,     0.93193,     0.93293,     0.93393,     0.93493,     0.93594,\n",
      "           0.93694,     0.93794,     0.93894,     0.93994,     0.94094,     0.94194,     0.94294,     0.94394,     0.94494,     0.94595,     0.94695,     0.94795,     0.94895,     0.94995,     0.95095,     0.95195,     0.95295,     0.95395,     0.95495,     0.95596,     0.95696,     0.95796,     0.95896,     0.95996,\n",
      "           0.96096,     0.96196,     0.96296,     0.96396,     0.96496,     0.96597,     0.96697,     0.96797,     0.96897,     0.96997,     0.97097,     0.97197,     0.97297,     0.97397,     0.97497,     0.97598,     0.97698,     0.97798,     0.97898,     0.97998,     0.98098,     0.98198,     0.98298,     0.98398,\n",
      "           0.98498,     0.98599,     0.98699,     0.98799,     0.98899,     0.98999,     0.99099,     0.99199,     0.99299,     0.99399,     0.99499,       0.996,       0.997,       0.998,       0.999,           1]), array([[    0.92748,     0.92748,      0.9084,     0.90076,     0.90076,     0.89313,     0.88931,     0.88168,     0.87405,     0.86641,     0.86641,      0.8626,      0.8626,     0.85878,     0.85878,     0.85878,     0.85878,     0.85878,     0.85496,     0.85496,     0.85496,     0.85496,     0.85496,\n",
      "            0.84733,     0.84351,     0.84351,     0.84351,     0.84351,     0.84351,     0.83969,     0.83969,     0.83969,     0.83588,     0.82824,     0.82824,     0.82824,     0.82824,     0.82443,     0.82443,     0.82061,     0.81679,     0.81679,     0.80916,     0.80534,     0.80153,     0.80153,\n",
      "            0.79389,     0.79389,     0.79389,     0.78626,     0.78244,     0.77863,     0.77863,     0.77481,     0.77481,     0.77481,     0.77239,     0.76718,     0.76336,     0.76336,     0.76336,     0.76336,     0.75954,     0.75573,     0.75348,     0.75191,     0.74809,     0.74046,     0.74046,\n",
      "            0.74046,     0.73664,     0.73282,     0.72901,     0.72765,     0.72519,     0.72137,     0.71756,     0.71756,     0.71756,     0.71756,     0.71756,     0.71756,     0.71756,     0.71374,     0.71374,     0.71374,     0.71374,     0.71374,     0.71374,     0.70992,     0.70992,     0.70992,\n",
      "            0.70992,     0.70992,     0.70992,     0.70611,     0.69847,     0.69847,     0.69847,     0.69847,     0.69466,     0.69466,     0.69466,     0.69466,     0.69084,     0.67996,     0.67939,     0.67939,     0.67939,     0.67557,     0.67557,     0.67557,     0.67557,     0.67176,     0.67176,\n",
      "            0.66031,     0.65649,     0.65649,     0.65267,     0.65267,     0.65267,     0.65267,     0.65267,     0.65267,     0.65267,     0.64701,     0.64504,     0.64433,     0.64122,      0.6374,      0.6374,      0.6374,      0.6374,      0.6374,      0.6374,      0.6374,      0.6374,     0.63359,\n",
      "            0.63359,     0.63359,     0.62977,     0.62977,     0.62695,     0.62595,     0.62214,     0.62214,     0.62214,     0.62214,     0.62117,     0.61613,      0.6145,      0.6145,      0.6145,      0.6145,      0.6145,      0.6145,      0.6145,      0.6145,      0.6145,      0.6145,     0.61069,\n",
      "            0.60687,     0.60687,     0.59924,     0.59542,     0.59542,     0.59542,     0.59267,      0.5916,      0.5916,      0.5916,      0.5916,      0.5916,      0.5916,      0.5916,     0.58833,     0.58779,     0.58397,     0.57784,     0.57634,     0.57252,     0.57252,     0.57252,     0.57252,\n",
      "            0.57252,     0.57252,     0.57252,     0.57098,      0.5687,     0.56821,     0.56107,     0.56107,     0.56107,     0.56107,     0.56107,     0.56107,     0.56107,     0.56107,     0.56107,     0.56107,     0.56107,     0.55725,     0.55641,     0.55344,     0.55344,     0.55344,     0.55344,\n",
      "            0.55344,     0.55344,     0.55344,     0.55344,     0.55344,     0.55344,     0.55059,      0.5458,      0.5458,      0.5458,      0.5458,      0.5458,      0.5458,      0.5458,     0.54198,     0.54198,     0.54198,     0.54198,     0.54198,     0.54116,     0.53899,     0.53646,     0.53435,\n",
      "            0.53435,     0.53053,     0.53053,     0.53053,     0.53053,     0.53053,     0.52871,     0.52672,     0.52672,     0.52472,      0.5229,      0.5229,      0.5229,      0.5229,     0.52079,     0.51527,     0.51527,     0.51527,     0.51527,     0.51527,     0.51527,     0.51527,     0.51527,\n",
      "            0.51522,     0.51313,     0.50816,     0.50442,     0.50382,     0.50382,     0.50382,     0.50303,     0.50083,     0.49851,     0.49618,     0.49618,     0.49493,     0.49237,     0.49237,     0.49237,     0.49016,     0.48855,     0.48855,     0.48855,     0.48855,     0.48855,     0.48855,\n",
      "            0.48855,     0.48737,     0.48593,     0.48473,     0.48473,     0.48473,     0.48473,     0.48092,     0.47928,      0.4771,      0.4771,      0.4771,      0.4771,      0.4771,      0.4771,      0.4771,     0.46723,     0.46565,     0.46565,     0.46183,     0.45593,      0.4542,      0.4542,\n",
      "            0.45011,     0.44857,     0.44703,     0.44656,     0.44656,     0.44656,      0.4446,     0.44275,     0.44048,     0.43198,     0.42748,      0.4231,     0.41985,     0.41985,     0.41985,     0.41985,     0.41985,     0.41985,     0.41985,     0.41801,     0.41603,      0.4128,     0.41221,\n",
      "            0.41114,      0.4084,      0.4084,      0.4084,      0.4084,     0.40391,     0.39695,     0.39695,     0.39695,     0.39695,     0.39329,     0.39313,     0.39313,     0.39313,     0.39313,     0.39313,     0.39313,     0.39313,     0.39313,     0.39313,     0.39244,     0.39112,      0.3898,\n",
      "            0.38931,     0.38587,      0.3855,      0.3855,       0.384,     0.38168,     0.38168,     0.38079,     0.37913,     0.37405,     0.37405,     0.37405,     0.37405,     0.37405,     0.37405,     0.37405,     0.37405,     0.37405,     0.37405,     0.36836,     0.36641,     0.36641,     0.36632,\n",
      "            0.36291,     0.36109,     0.35944,     0.35749,     0.35534,     0.35496,     0.35327,     0.35115,     0.35115,     0.35115,     0.35115,     0.35115,     0.35115,     0.34947,     0.34675,     0.34606,     0.34538,     0.34469,     0.34401,     0.34351,     0.34302,      0.3423,     0.34159,\n",
      "            0.34088,     0.34016,     0.33969,     0.33969,     0.33588,     0.33588,     0.33541,     0.33394,     0.33246,     0.33099,     0.32951,     0.32824,     0.32824,     0.32824,     0.32824,     0.32824,     0.32824,     0.32824,     0.32824,     0.32824,     0.32824,     0.32824,     0.32824,\n",
      "            0.32789,     0.32738,     0.32687,     0.32635,     0.32584,     0.32533,     0.32481,     0.32443,     0.32122,     0.32052,     0.31953,     0.31853,     0.31754,     0.31679,     0.31679,     0.31594,     0.31375,       0.312,     0.31049,     0.30916,     0.30916,     0.30839,     0.30755,\n",
      "            0.30672,     0.30589,     0.30448,     0.30198,      0.2995,     0.29681,     0.29582,     0.29483,     0.29389,     0.29389,     0.29389,     0.29389,     0.29389,     0.29389,     0.29389,     0.29389,     0.29389,     0.29389,     0.29376,     0.29109,     0.28904,     0.28737,     0.28626,\n",
      "            0.28626,     0.28626,     0.28626,     0.28626,     0.28626,     0.28368,     0.28116,     0.27979,      0.2781,     0.27481,     0.27481,     0.27481,     0.27481,     0.27361,     0.27167,     0.26975,     0.26783,     0.26572,      0.2635,     0.26336,     0.26336,     0.26336,     0.26292,\n",
      "            0.26104,     0.25803,     0.25457,     0.25289,     0.24809,     0.24809,     0.24809,     0.23664,     0.23664,      0.2362,     0.23515,     0.23411,     0.23306,     0.23282,     0.23282,     0.23282,     0.23282,     0.23282,     0.23282,     0.23282,     0.23282,      0.2297,     0.22572,\n",
      "            0.22015,     0.21853,     0.21756,     0.21756,     0.21756,     0.21756,     0.21756,     0.21756,     0.21756,     0.21756,     0.21756,     0.21756,     0.21756,     0.21061,     0.20992,     0.20992,     0.20992,     0.20992,     0.20992,     0.20992,     0.20992,     0.20915,     0.20718,\n",
      "            0.20461,     0.20225,     0.20181,     0.20137,     0.20092,     0.20048,     0.20004,      0.1996,     0.19915,     0.19871,     0.19847,     0.19847,     0.19799,     0.19703,     0.19608,     0.19512,     0.19466,     0.19466,     0.19466,     0.19466,     0.19466,     0.19466,     0.19466,\n",
      "            0.19466,     0.19466,     0.19466,     0.19466,     0.19466,     0.19466,      0.1942,     0.19241,     0.19084,     0.19084,     0.19084,     0.19084,     0.19084,     0.18702,     0.18702,     0.18702,     0.18702,     0.18702,     0.18702,      0.1848,      0.1821,     0.18085,     0.17959,\n",
      "            0.17939,     0.17939,     0.17933,      0.1789,     0.17846,     0.17803,     0.17759,     0.17716,     0.17672,     0.17629,     0.17586,     0.17469,     0.17215,     0.17176,     0.16771,     0.16003,     0.15839,     0.15675,     0.15508,     0.15342,     0.15232,     0.15169,     0.15106,\n",
      "            0.15043,      0.1498,     0.14916,     0.14747,     0.14504,     0.14504,     0.14504,     0.14504,     0.14504,     0.14504,     0.14504,     0.14504,     0.14504,     0.14504,     0.14504,     0.14504,     0.14504,     0.14504,     0.14504,     0.14504,     0.14504,     0.14504,     0.14504,\n",
      "            0.14504,     0.14504,     0.14504,     0.14441,     0.14337,     0.14234,      0.1413,     0.14111,     0.13722,     0.13498,     0.13359,     0.13359,     0.13359,       0.133,     0.12977,     0.12977,     0.12977,     0.12977,     0.12977,     0.12977,     0.12977,     0.12977,     0.12977,\n",
      "            0.12893,     0.12741,     0.12595,     0.12595,     0.12595,     0.12595,     0.12519,     0.12316,     0.11965,     0.11832,     0.11453,     0.10958,      0.1079,     0.10567,     0.10305,     0.10305,     0.10305,     0.10305,     0.10305,     0.10305,     0.10225,     0.10014,    0.098726,\n",
      "           0.097838,    0.096949,    0.096061,     0.09542,     0.09542,     0.09542,     0.09542,     0.09542,     0.09509,    0.094669,    0.094247,    0.093826,    0.093404,    0.092983,    0.092561,     0.09214,    0.091718,    0.091603,    0.091603,    0.091603,    0.091603,    0.091603,    0.091603,\n",
      "           0.091603,    0.090422,       0.089,    0.087786,    0.086804,    0.085631,    0.084458,    0.083429,    0.082504,    0.081579,    0.080654,    0.080153,    0.080153,    0.074129,    0.071324,    0.069078,    0.067818,    0.066757,    0.065696,    0.064022,    0.061069,    0.061069,    0.061069,\n",
      "           0.061069,    0.061069,    0.061069,    0.061069,    0.061069,    0.061069,    0.061069,    0.061069,    0.061069,    0.061069,    0.061069,    0.061069,    0.061069,    0.061069,    0.061069,    0.061069,    0.061069,    0.061069,    0.061069,    0.061069,    0.061069,    0.061069,    0.061069,\n",
      "           0.061069,    0.061069,    0.061069,    0.061069,    0.061069,    0.061069,    0.061069,    0.060806,    0.059679,    0.058551,    0.057424,    0.057252,    0.057252,    0.057252,    0.056043,    0.053435,    0.053435,    0.053435,    0.053435,    0.053435,    0.053435,    0.053435,    0.053435,\n",
      "           0.053435,    0.053435,    0.053435,    0.053088,    0.051987,    0.050886,    0.049785,    0.045802,    0.045802,    0.045802,    0.045802,    0.045802,    0.045802,    0.045802,    0.045797,      0.0452,    0.044604,    0.044007,     0.04341,    0.042813,    0.042216,    0.041891,    0.041739,\n",
      "           0.041587,    0.041434,    0.041282,    0.041129,    0.040977,    0.040824,    0.040672,     0.04052,    0.040367,    0.040215,    0.040062,     0.03991,    0.039758,    0.039605,    0.039453,      0.0393,    0.039148,    0.038996,    0.038843,    0.038691,    0.038538,    0.038386,    0.038234,\n",
      "           0.038168,    0.038168,    0.038168,    0.038168,    0.038168,    0.038168,    0.038168,    0.038168,    0.038056,    0.037898,    0.037741,    0.037583,    0.037426,    0.037269,    0.037111,    0.036954,    0.036796,    0.036639,    0.036481,    0.036324,    0.036166,    0.036009,    0.035851,\n",
      "           0.035694,    0.035537,    0.035379,    0.035222,    0.035064,    0.034907,    0.034749,    0.034592,    0.034434,    0.032751,    0.029052,    0.026144,    0.024881,    0.023617,    0.022754,    0.022415,    0.022075,    0.021736,    0.021397,    0.021058,    0.020718,    0.020379,     0.02004,\n",
      "           0.019701,    0.019361,     0.01903,    0.018736,    0.018442,    0.018147,    0.017853,    0.017559,    0.017264,     0.01697,    0.016676,    0.016381,    0.016087,    0.015793,    0.015498,    0.015267,    0.015267,    0.015267,    0.015267,    0.015267,    0.015267,    0.015267,    0.015267,\n",
      "           0.015267,    0.015267,    0.015267,    0.015267,    0.015267,    0.015267,    0.015267,    0.015267,    0.015267,    0.015267,    0.015267,    0.015267,    0.015267,    0.015267,    0.015267,    0.015267,    0.015267,    0.015267,    0.015267,    0.015267,     0.01145,     0.01145,     0.01145,\n",
      "            0.01145,     0.01145,     0.01145,     0.01145,     0.01145,     0.01145,     0.01145,     0.01145,     0.01145,     0.01145,     0.01145,     0.01145,     0.01145,     0.01145,     0.01145,     0.01145,     0.01145,     0.01145,     0.01145,     0.01145,     0.01145,     0.01145,     0.01145,\n",
      "            0.01145,     0.01145,     0.01142,    0.011059,    0.010697,    0.010336,   0.0099741,   0.0096126,   0.0092511,   0.0088896,   0.0085281,   0.0081666,   0.0078052,           0,           0,           0,           0,           0,           0,           0,           0,           0,           0,\n",
      "                  0,           0,           0,           0,           0,           0,           0,           0,           0,           0,           0,           0,           0,           0,           0,           0,           0,           0,           0,           0,           0,           0,           0,\n",
      "                  0,           0,           0,           0,           0,           0,           0,           0,           0,           0,           0,           0,           0,           0,           0,           0,           0,           0,           0,           0,           0,           0,           0,\n",
      "                  0,           0,           0,           0,           0,           0,           0,           0,           0,           0,           0]]), 'Confidence', 'Recall']]\n",
      "fitness: 0.1324301905660365\n",
      "keys: ['metrics/precision(B)', 'metrics/recall(B)', 'metrics/mAP50(B)', 'metrics/mAP50-95(B)']\n",
      "maps: array([    0.10471])\n",
      "names: {0: 'Face'}\n",
      "plot: True\n",
      "results_dict: {'metrics/precision(B)': 0.4461733806268606, 'metrics/recall(B)': 0.5152671755725191, 'metrics/mAP50(B)': 0.3819533312481894, 'metrics/mAP50-95(B)': 0.10470539715690838, 'fitness': 0.1324301905660365}\n",
      "save_dir: WindowsPath('runs/detect/FacialDetection22')\n",
      "speed: {'preprocess': 0.20210232053484237, 'inference': 7.672560458280602, 'loss': 0.0, 'postprocess': 1.1394644270137866}\n",
      "task: 'detect'\n"
     ]
    }
   ],
   "source": [
    "from ultralytics import YOLO\n",
    "model = YOLO('yolov8s.pt')\n",
    "\n",
    "# Train the model\n",
    "model.train(data='face_detection.yaml', name='FacialDetection', seed=42, epochs=100, patience=20, rect=True, optimizer='Adam')\n",
    "valid_results = model.val()\n",
    "print(valid_results)"
   ]
  }
 ],
 "metadata": {
  "kernelspec": {
   "display_name": "Python 3",
   "language": "python",
   "name": "python3"
  },
  "language_info": {
   "codemirror_mode": {
    "name": "ipython",
    "version": 3
   },
   "file_extension": ".py",
   "mimetype": "text/x-python",
   "name": "python",
   "nbconvert_exporter": "python",
   "pygments_lexer": "ipython3",
   "version": "3.11.6"
  }
 },
 "nbformat": 4,
 "nbformat_minor": 2
}
