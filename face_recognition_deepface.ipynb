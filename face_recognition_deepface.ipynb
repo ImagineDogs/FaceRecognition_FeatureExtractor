{
 "cells": [
  {
   "cell_type": "code",
   "execution_count": 1,
   "metadata": {},
   "outputs": [],
   "source": [
    "from deepface import DeepFace"
   ]
  },
  {
   "cell_type": "code",
   "execution_count": 54,
   "metadata": {},
   "outputs": [
    {
     "name": "stderr",
     "output_type": "stream",
     "text": [
      "Finding representations: 100%|██████████| 2/2 [00:00<00:00,  4.57it/s]\n"
     ]
    },
    {
     "name": "stdout",
     "output_type": "stream",
     "text": [
      "Representations stored in ./db_rostos/representations_vgg_face.pkl file.Please delete this file when you add new identities in your database.\n",
      "find function lasts  0.5922670364379883  seconds\n"
     ]
    }
   ],
   "source": [
    "result = DeepFace.find(img_path = \"./tests/im.jpg\", db_path = \"./db_rostos\")"
   ]
  },
  {
   "cell_type": "markdown",
   "metadata": {},
   "source": [
    "É necessário excluir o arquivo representations_vgg_face.pkl quando adicionar uma pessoa na base de dados!"
   ]
  },
  {
   "cell_type": "code",
   "execution_count": 55,
   "metadata": {},
   "outputs": [
    {
     "data": {
      "text/plain": [
       "'Pedro'"
      ]
     },
     "execution_count": 55,
     "metadata": {},
     "output_type": "execute_result"
    }
   ],
   "source": [
    "result[0].identity[0].split('/')[2].split('.')[0]"
   ]
  },
  {
   "cell_type": "code",
   "execution_count": 58,
   "metadata": {},
   "outputs": [
    {
     "name": "stdout",
     "output_type": "stream",
     "text": [
      "facial_expression_model_weights.h5 will be downloaded...\n"
     ]
    },
    {
     "name": "stderr",
     "output_type": "stream",
     "text": [
      "Downloading...\n",
      "From: https://github.com/serengil/deepface_models/releases/download/v1.0/facial_expression_model_weights.h5\n",
      "To: C:\\Users\\Eduardo\\.deepface\\weights\\facial_expression_model_weights.h5\n",
      "100%|██████████| 5.98M/5.98M [00:00<00:00, 8.25MB/s]\n"
     ]
    },
    {
     "name": "stdout",
     "output_type": "stream",
     "text": [
      "age_model_weights.h5 will be downloaded...\n"
     ]
    },
    {
     "name": "stderr",
     "output_type": "stream",
     "text": [
      "Downloading...\n",
      "From: https://github.com/serengil/deepface_models/releases/download/v1.0/age_model_weights.h5\n",
      "To: C:\\Users\\Eduardo\\.deepface\\weights\\age_model_weights.h5\n",
      "100%|██████████| 539M/539M [01:05<00:00, 8.23MB/s] \n"
     ]
    },
    {
     "name": "stdout",
     "output_type": "stream",
     "text": [
      "gender_model_weights.h5 will be downloaded...\n"
     ]
    },
    {
     "name": "stderr",
     "output_type": "stream",
     "text": [
      "Downloading...\n",
      "From: https://github.com/serengil/deepface_models/releases/download/v1.0/gender_model_weights.h5\n",
      "To: C:\\Users\\Eduardo\\.deepface\\weights\\gender_model_weights.h5\n",
      "100%|██████████| 537M/537M [00:59<00:00, 8.99MB/s] \n"
     ]
    },
    {
     "name": "stdout",
     "output_type": "stream",
     "text": [
      "race_model_single_batch.h5 will be downloaded...\n"
     ]
    },
    {
     "name": "stderr",
     "output_type": "stream",
     "text": [
      "Downloading...\n",
      "From: https://github.com/serengil/deepface_models/releases/download/v1.0/race_model_single_batch.h5\n",
      "To: C:\\Users\\Eduardo\\.deepface\\weights\\race_model_single_batch.h5\n",
      "100%|██████████| 537M/537M [01:01<00:00, 8.77MB/s] \n",
      "Action: race: 100%|██████████| 4/4 [00:00<00:00,  4.96it/s]   \n"
     ]
    },
    {
     "data": {
      "text/plain": [
       "[{'emotion': {'angry': 0.0033791344321798533,\n",
       "   'disgust': 9.746427664936164e-07,\n",
       "   'fear': 0.05282884812913835,\n",
       "   'happy': 99.9005138874054,\n",
       "   'sad': 0.030833299388177693,\n",
       "   'surprise': 0.00038705125007254537,\n",
       "   'neutral': 0.012057174171786755},\n",
       "  'dominant_emotion': 'happy',\n",
       "  'region': {'x': 494, 'y': 75, 'w': 272, 'h': 272},\n",
       "  'age': 29,\n",
       "  'gender': {'Woman': 1.3806403614580631, 'Man': 98.6193597316742},\n",
       "  'dominant_gender': 'Man',\n",
       "  'race': {'asian': 3.6306252582107845e-05,\n",
       "   'indian': 0.00019986882762168534,\n",
       "   'black': 2.2265163934775956e-06,\n",
       "   'white': 99.18457865715027,\n",
       "   'middle eastern': 0.4965700674802065,\n",
       "   'latino hispanic': 0.3186155343428254},\n",
       "  'dominant_race': 'white'}]"
      ]
     },
     "execution_count": 58,
     "metadata": {},
     "output_type": "execute_result"
    }
   ],
   "source": [
    "DeepFace.analyze('db_rostos\\Eduardo.jpg')"
   ]
  }
 ],
 "metadata": {
  "kernelspec": {
   "display_name": "Python 3",
   "language": "python",
   "name": "python3"
  },
  "language_info": {
   "codemirror_mode": {
    "name": "ipython",
    "version": 3
   },
   "file_extension": ".py",
   "mimetype": "text/x-python",
   "name": "python",
   "nbconvert_exporter": "python",
   "pygments_lexer": "ipython3",
   "version": "3.10.11"
  }
 },
 "nbformat": 4,
 "nbformat_minor": 2
}
