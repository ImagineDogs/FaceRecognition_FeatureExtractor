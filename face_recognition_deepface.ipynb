{
 "cells": [
  {
   "cell_type": "code",
   "execution_count": 2,
   "metadata": {},
   "outputs": [
    {
     "name": "stdout",
     "output_type": "stream",
     "text": [
      "WARNING:tensorflow:From c:\\Users\\pedro\\AppData\\Local\\Programs\\Python\\Python311\\Lib\\site-packages\\keras\\src\\losses.py:2976: The name tf.losses.sparse_softmax_cross_entropy is deprecated. Please use tf.compat.v1.losses.sparse_softmax_cross_entropy instead.\n",
      "\n",
      "23-12-16 16:41:30 - Directory C:\\Users\\pedro/.deepface created\n",
      "23-12-16 16:41:30 - Directory C:\\Users\\pedro/.deepface/weights created\n"
     ]
    }
   ],
   "source": [
    "from deepface import DeepFace"
   ]
  },
  {
   "cell_type": "code",
   "execution_count": 47,
   "metadata": {},
   "outputs": [
    {
     "name": "stdout",
     "output_type": "stream",
     "text": [
      "23-12-16 17:09:03 - ⚠️ Representations for images in ./db_rostos folder were previously stored in representations_vgg_face.pkl. If you added new instances after the creation, then please delete this file and call find function again. It will create it again.\n",
      "23-12-16 17:09:03 - There are 2 representations found in representations_vgg_face.pkl\n",
      "23-12-16 17:09:03 - find function lasts 0.34477734565734863 seconds\n"
     ]
    }
   ],
   "source": [
    "result = DeepFace.find(img_path = \"./tests/im2.jpg\", db_path = \"./db_rostos\")"
   ]
  },
  {
   "cell_type": "code",
   "execution_count": 49,
   "metadata": {},
   "outputs": [
    {
     "data": {
      "text/plain": [
       "0"
      ]
     },
     "execution_count": 49,
     "metadata": {},
     "output_type": "execute_result"
    }
   ],
   "source": [
    "len(result[0])"
   ]
  },
  {
   "cell_type": "markdown",
   "metadata": {},
   "source": [
    "É necessário excluir o arquivo representations_vgg_face.pkl quando adicionar uma pessoa na base de dados!"
   ]
  },
  {
   "cell_type": "code",
   "execution_count": 25,
   "metadata": {},
   "outputs": [
    {
     "data": {
      "text/plain": [
       "'Pedro'"
      ]
     },
     "execution_count": 25,
     "metadata": {},
     "output_type": "execute_result"
    }
   ],
   "source": [
    "result = DeepFace.find(img_path = \"./tests/im2.jpg\", db_path = \"./db_rostos\")\n",
    "result[0].identity[0].split('/')[2].split('.')[0]"
   ]
  },
  {
   "cell_type": "code",
   "execution_count": 40,
   "metadata": {},
   "outputs": [
    {
     "name": "stderr",
     "output_type": "stream",
     "text": [
      "Action: emotion: 100%|██████████| 3/3 [00:00<00:00,  4.78it/s]\n"
     ]
    }
   ],
   "source": [
    "res = DeepFace.analyze('db_rostos\\Eduardo.jpg',actions = ['age', 'gender', 'emotion'])"
   ]
  },
  {
   "cell_type": "code",
   "execution_count": 33,
   "metadata": {},
   "outputs": [
    {
     "name": "stderr",
     "output_type": "stream",
     "text": [
      "Action: race: 100%|██████████| 4/4 [00:00<00:00,  4.23it/s]  \n"
     ]
    }
   ],
   "source": [
    "res = DeepFace.analyze('db_rostos\\Eduardo.jpg')"
   ]
  },
  {
   "cell_type": "code",
   "execution_count": 41,
   "metadata": {},
   "outputs": [
    {
     "data": {
      "text/plain": [
       "[{'age': 29,\n",
       "  'region': {'x': 494, 'y': 75, 'w': 272, 'h': 272},\n",
       "  'face_confidence': 6.765703093376942,\n",
       "  'gender': {'Woman': 1.380640920251608, 'Man': 98.6193597316742},\n",
       "  'dominant_gender': 'Man',\n",
       "  'emotion': {'angry': 0.003379104964551516,\n",
       "   'disgust': 9.746372597874142e-07,\n",
       "   'fear': 0.05282876663841307,\n",
       "   'happy': 99.9005138874054,\n",
       "   'sad': 0.03083309275098145,\n",
       "   'surprise': 0.0003870490672852611,\n",
       "   'neutral': 0.01205714070238173},\n",
       "  'dominant_emotion': 'happy'}]"
      ]
     },
     "execution_count": 41,
     "metadata": {},
     "output_type": "execute_result"
    }
   ],
   "source": [
    "res"
   ]
  },
  {
   "cell_type": "code",
   "execution_count": 9,
   "metadata": {},
   "outputs": [
    {
     "data": {
      "text/plain": [
       "'happy'"
      ]
     },
     "execution_count": 9,
     "metadata": {},
     "output_type": "execute_result"
    }
   ],
   "source": [
    "res['dominant_emotion']"
   ]
  },
  {
   "cell_type": "code",
   "execution_count": 94,
   "metadata": {},
   "outputs": [
    {
     "name": "stdout",
     "output_type": "stream",
     "text": [
      "\n",
      "image 1/1 d:\\GitHub\\FaceRecognition_FeatureExtractor\\lacto.jpg: 640x480 5 Faces, 10.2ms\n",
      "Speed: 2.0ms preprocess, 10.2ms inference, 2.0ms postprocess per image at shape (1, 3, 640, 480)\n"
     ]
    }
   ],
   "source": [
    "from ultralytics import YOLO\n",
    "model = YOLO('runs/detect/FacialDetection2/weights/best.pt')\n",
    "# results = model.predict(source='0', show=True)\n",
    "results = model.predict('lacto.jpg')\n",
    "box = results[0].boxes.xyxy.tolist()"
   ]
  },
  {
   "cell_type": "code",
   "execution_count": 89,
   "metadata": {},
   "outputs": [
    {
     "data": {
      "text/plain": [
       "[[407.3908996582031, 60.7301025390625, 886.41162109375, 315.52703857421875]]"
      ]
     },
     "execution_count": 89,
     "metadata": {},
     "output_type": "execute_result"
    }
   ],
   "source": [
    "box"
   ]
  },
  {
   "cell_type": "code",
   "execution_count": 96,
   "metadata": {},
   "outputs": [
    {
     "name": "stdout",
     "output_type": "stream",
     "text": [
      "23-12-16 17:27:09 - ⚠️ Representations for images in ./db_rostos folder were previously stored in representations_vgg_face.pkl. If you added new instances after the creation, then please delete this file and call find function again. It will create it again.\n",
      "23-12-16 17:27:09 - There are 2 representations found in representations_vgg_face.pkl\n",
      "23-12-16 17:27:09 - find function lasts 0.40056538581848145 seconds\n"
     ]
    },
    {
     "name": "stderr",
     "output_type": "stream",
     "text": [
      "Action: race: 100%|██████████| 4/4 [00:01<00:00,  3.64it/s]  \n"
     ]
    },
    {
     "name": "stdout",
     "output_type": "stream",
     "text": [
      "23-12-16 17:27:10 - ⚠️ Representations for images in ./db_rostos folder were previously stored in representations_vgg_face.pkl. If you added new instances after the creation, then please delete this file and call find function again. It will create it again.\n",
      "23-12-16 17:27:10 - There are 2 representations found in representations_vgg_face.pkl\n",
      "23-12-16 17:27:10 - find function lasts 0.3313314914703369 seconds\n"
     ]
    },
    {
     "name": "stderr",
     "output_type": "stream",
     "text": [
      "Action: race: 100%|██████████| 4/4 [00:00<00:00,  4.20it/s]  \n"
     ]
    },
    {
     "name": "stdout",
     "output_type": "stream",
     "text": [
      "23-12-16 17:27:11 - ⚠️ Representations for images in ./db_rostos folder were previously stored in representations_vgg_face.pkl. If you added new instances after the creation, then please delete this file and call find function again. It will create it again.\n",
      "23-12-16 17:27:11 - There are 2 representations found in representations_vgg_face.pkl\n",
      "23-12-16 17:27:12 - find function lasts 0.32947468757629395 seconds\n"
     ]
    },
    {
     "name": "stderr",
     "output_type": "stream",
     "text": [
      "Action: race: 100%|██████████| 4/4 [00:01<00:00,  3.96it/s]  \n"
     ]
    },
    {
     "name": "stdout",
     "output_type": "stream",
     "text": [
      "23-12-16 17:27:13 - ⚠️ Representations for images in ./db_rostos folder were previously stored in representations_vgg_face.pkl. If you added new instances after the creation, then please delete this file and call find function again. It will create it again.\n",
      "23-12-16 17:27:13 - There are 2 representations found in representations_vgg_face.pkl\n",
      "23-12-16 17:27:13 - ⚠️ Representations for images in ./db_rostos folder were previously stored in representations_vgg_face.pkl. If you added new instances after the creation, then please delete this file and call find function again. It will create it again.\n",
      "23-12-16 17:27:13 - There are 2 representations found in representations_vgg_face.pkl\n"
     ]
    }
   ],
   "source": [
    "import cv2\n",
    "image = cv2.imread(\"lacto.jpg\") \n",
    "window_name = 'image'\n",
    "for face in box:\n",
    "    try:\n",
    "        # Pontos XY\n",
    "        x0 = int(face[0])\n",
    "        y0 = int(face[1])\n",
    "        x1 = int(face[2])\n",
    "        y1 = int(face[3])\n",
    "\n",
    "        # Recorte do rosto\n",
    "        individual_face = image[y0:y1, x0:x1]\n",
    "\n",
    "        # Inicio e Fim do rosto\n",
    "        start_point = (x0, y0)\n",
    "        end_point = (x1, y1)\n",
    "\n",
    "        # Inicio e fim dos textos\n",
    "        start_space = (x0, y1)\n",
    "        end_space = (x1, y1+100)\n",
    "        \n",
    "        # Cor e espessura do retrato\n",
    "        color = (172, 52, 52)\n",
    "        thickness = 2\n",
    "\n",
    "        # Dados sobre o rosto\n",
    "        person = DeepFace.find(individual_face, db_path = \"./db_rostos\")\n",
    "        per = 'N/A' if len(person[0]) == 0 else person[0].identity[0].split('/')[2].split('.')[0]\n",
    "        res = DeepFace.analyze(individual_face)[0]\n",
    "\n",
    "        # Retrato na foto original e espaco para o texto\n",
    "        image = cv2.rectangle(image, start_point, end_point, color, thickness)\n",
    "        image = cv2.rectangle(image, start_space, end_space, color, -1) \n",
    "\n",
    "        # # Resultados do rosto encontrado\n",
    "        image = cv2.putText(image, f'Person: {per}', (x0+5, y1+18), cv2.FONT_HERSHEY_SIMPLEX,  \n",
    "                    0.7, (255, 255, 255), 1) \n",
    "        image = cv2.putText(image, f'Gender: {res[\"dominant_gender\"]}', (x0+5, y1+38), cv2.FONT_HERSHEY_SIMPLEX,  \n",
    "                    0.7, (255, 255, 255), 1) \n",
    "        image = cv2.putText(image, f'Age: {res[\"age\"]}', (x0+5, y1+58), cv2.FONT_HERSHEY_SIMPLEX,  \n",
    "                    0.7, (255, 255, 255), 1) \n",
    "        image = cv2.putText(image, f'Emotion: {res[\"dominant_emotion\"]}', (x0+5, y1+78), cv2.FONT_HERSHEY_SIMPLEX,  \n",
    "                    0.7, (255, 255, 255), 1) \n",
    "        image = cv2.putText(image, f'Race: {res[\"dominant_race\"]}', (x0+5, y1+98), cv2.FONT_HERSHEY_SIMPLEX,  \n",
    "                    0.7, (255, 255, 255), 1) \n",
    "        \n",
    "    except:\n",
    "        pass\n",
    "    \n",
    "    # break\n",
    "cv2.imshow(window_name, image)\n",
    "cv2.waitKey(0) \n",
    "cv2.destroyAllWindows() "
   ]
  }
 ],
 "metadata": {
  "kernelspec": {
   "display_name": "Python 3",
   "language": "python",
   "name": "python3"
  },
  "language_info": {
   "codemirror_mode": {
    "name": "ipython",
    "version": 3
   },
   "file_extension": ".py",
   "mimetype": "text/x-python",
   "name": "python",
   "nbconvert_exporter": "python",
   "pygments_lexer": "ipython3",
   "version": "3.11.6"
  }
 },
 "nbformat": 4,
 "nbformat_minor": 2
}
