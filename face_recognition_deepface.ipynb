{
 "cells": [
  {
   "cell_type": "code",
   "execution_count": 18,
   "metadata": {},
   "outputs": [],
   "source": [
    "from deepface import DeepFace"
   ]
  },
  {
   "cell_type": "code",
   "execution_count": 19,
   "metadata": {},
   "outputs": [
    {
     "ename": "ValueError",
     "evalue": "Face could not be detected. Please confirm that the picture is a face photo or consider to set enforce_detection param to False.",
     "output_type": "error",
     "traceback": [
      "\u001b[1;31m---------------------------------------------------------------------------\u001b[0m",
      "\u001b[1;31mValueError\u001b[0m                                Traceback (most recent call last)",
      "\u001b[1;32mc:\\Users\\Eduardo\\Documents\\FaceRecognition_FeatureExtractor\\face_recognition_deepface.ipynb Cell 2\u001b[0m line \u001b[0;36m<cell line: 1>\u001b[1;34m()\u001b[0m\n\u001b[1;32m----> <a href='vscode-notebook-cell:/c%3A/Users/Eduardo/Documents/FaceRecognition_FeatureExtractor/face_recognition_deepface.ipynb#W1sZmlsZQ%3D%3D?line=0'>1</a>\u001b[0m result \u001b[39m=\u001b[39m DeepFace\u001b[39m.\u001b[39;49mverify(img1_path \u001b[39m=\u001b[39;49m \u001b[39m\"\u001b[39;49m\u001b[39mtest\u001b[39;49m\u001b[39m\\\u001b[39;49m\u001b[39mexcluir.jpg\u001b[39;49m\u001b[39m\"\u001b[39;49m, img2_path \u001b[39m=\u001b[39;49m \u001b[39m\"\u001b[39;49m\u001b[39mtest\u001b[39;49m\u001b[39m\\\u001b[39;49m\u001b[39mdudss1.jpg\u001b[39;49m\u001b[39m\"\u001b[39;49m)\n",
      "File \u001b[1;32m~\\AppData\\Local\\Packages\\PythonSoftwareFoundation.Python.3.10_qbz5n2kfra8p0\\LocalCache\\local-packages\\Python310\\site-packages\\deepface\\DeepFace.py:146\u001b[0m, in \u001b[0;36mverify\u001b[1;34m(img1_path, img2_path, model_name, detector_backend, distance_metric, enforce_detection, align, normalization)\u001b[0m\n\u001b[0;32m    143\u001b[0m target_size \u001b[39m=\u001b[39m functions\u001b[39m.\u001b[39mfind_target_size(model_name\u001b[39m=\u001b[39mmodel_name)\n\u001b[0;32m    145\u001b[0m \u001b[39m# img pairs might have many faces\u001b[39;00m\n\u001b[1;32m--> 146\u001b[0m img1_objs \u001b[39m=\u001b[39m functions\u001b[39m.\u001b[39;49mextract_faces(\n\u001b[0;32m    147\u001b[0m     img\u001b[39m=\u001b[39;49mimg1_path,\n\u001b[0;32m    148\u001b[0m     target_size\u001b[39m=\u001b[39;49mtarget_size,\n\u001b[0;32m    149\u001b[0m     detector_backend\u001b[39m=\u001b[39;49mdetector_backend,\n\u001b[0;32m    150\u001b[0m     grayscale\u001b[39m=\u001b[39;49m\u001b[39mFalse\u001b[39;49;00m,\n\u001b[0;32m    151\u001b[0m     enforce_detection\u001b[39m=\u001b[39;49menforce_detection,\n\u001b[0;32m    152\u001b[0m     align\u001b[39m=\u001b[39;49malign,\n\u001b[0;32m    153\u001b[0m )\n\u001b[0;32m    155\u001b[0m img2_objs \u001b[39m=\u001b[39m functions\u001b[39m.\u001b[39mextract_faces(\n\u001b[0;32m    156\u001b[0m     img\u001b[39m=\u001b[39mimg2_path,\n\u001b[0;32m    157\u001b[0m     target_size\u001b[39m=\u001b[39mtarget_size,\n\u001b[1;32m   (...)\u001b[0m\n\u001b[0;32m    161\u001b[0m     align\u001b[39m=\u001b[39malign,\n\u001b[0;32m    162\u001b[0m )\n\u001b[0;32m    163\u001b[0m \u001b[39m# --------------------------------\u001b[39;00m\n",
      "File \u001b[1;32m~\\AppData\\Local\\Packages\\PythonSoftwareFoundation.Python.3.10_qbz5n2kfra8p0\\LocalCache\\local-packages\\Python310\\site-packages\\deepface\\commons\\functions.py:115\u001b[0m, in \u001b[0;36mextract_faces\u001b[1;34m(img, target_size, detector_backend, grayscale, enforce_detection, align)\u001b[0m\n\u001b[0;32m    113\u001b[0m \u001b[39m# in case of no face found\u001b[39;00m\n\u001b[0;32m    114\u001b[0m \u001b[39mif\u001b[39;00m \u001b[39mlen\u001b[39m(face_objs) \u001b[39m==\u001b[39m \u001b[39m0\u001b[39m \u001b[39mand\u001b[39;00m enforce_detection \u001b[39mis\u001b[39;00m \u001b[39mTrue\u001b[39;00m:\n\u001b[1;32m--> 115\u001b[0m     \u001b[39mraise\u001b[39;00m \u001b[39mValueError\u001b[39;00m(\n\u001b[0;32m    116\u001b[0m         \u001b[39m\"\u001b[39m\u001b[39mFace could not be detected. Please confirm that the picture is a face photo \u001b[39m\u001b[39m\"\u001b[39m\n\u001b[0;32m    117\u001b[0m         \u001b[39m+\u001b[39m \u001b[39m\"\u001b[39m\u001b[39mor consider to set enforce_detection param to False.\u001b[39m\u001b[39m\"\u001b[39m\n\u001b[0;32m    118\u001b[0m     )\n\u001b[0;32m    120\u001b[0m \u001b[39mif\u001b[39;00m \u001b[39mlen\u001b[39m(face_objs) \u001b[39m==\u001b[39m \u001b[39m0\u001b[39m \u001b[39mand\u001b[39;00m enforce_detection \u001b[39mis\u001b[39;00m \u001b[39mFalse\u001b[39;00m:\n\u001b[0;32m    121\u001b[0m     face_objs \u001b[39m=\u001b[39m [(img, img_region, \u001b[39m0\u001b[39m)]\n",
      "\u001b[1;31mValueError\u001b[0m: Face could not be detected. Please confirm that the picture is a face photo or consider to set enforce_detection param to False."
     ]
    }
   ],
   "source": [
    "result = DeepFace.verify(img1_path = \"test\\excluir.jpg\", img2_path = \"test\\dudss1.jpg\")"
   ]
  },
  {
   "cell_type": "code",
   "execution_count": 13,
   "metadata": {},
   "outputs": [
    {
     "data": {
      "text/plain": [
       "{'verified': True,\n",
       " 'distance': 0.1657601710108606,\n",
       " 'threshold': 0.4,\n",
       " 'model': 'VGG-Face',\n",
       " 'detector_backend': 'opencv',\n",
       " 'similarity_metric': 'cosine',\n",
       " 'facial_areas': {'img1': {'x': 292, 'y': 393, 'w': 300, 'h': 300},\n",
       "  'img2': {'x': 494, 'y': 75, 'w': 272, 'h': 272}},\n",
       " 'time': 1.03}"
      ]
     },
     "execution_count": 13,
     "metadata": {},
     "output_type": "execute_result"
    }
   ],
   "source": [
    "result"
   ]
  }
 ],
 "metadata": {
  "kernelspec": {
   "display_name": "Python 3",
   "language": "python",
   "name": "python3"
  },
  "language_info": {
   "codemirror_mode": {
    "name": "ipython",
    "version": 3
   },
   "file_extension": ".py",
   "mimetype": "text/x-python",
   "name": "python",
   "nbconvert_exporter": "python",
   "pygments_lexer": "ipython3",
   "version": "3.10.11"
  }
 },
 "nbformat": 4,
 "nbformat_minor": 2
}
