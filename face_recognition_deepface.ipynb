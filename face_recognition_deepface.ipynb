{
 "cells": [
  {
   "cell_type": "code",
   "execution_count": 1,
   "metadata": {},
   "outputs": [],
   "source": [
    "from deepface import DeepFace"
   ]
  },
  {
   "cell_type": "code",
   "execution_count": 3,
   "metadata": {},
   "outputs": [
    {
     "name": "stderr",
     "output_type": "stream",
     "text": [
      "Finding representations: 100%|██████████| 2/2 [00:03<00:00,  1.92s/it]"
     ]
    },
    {
     "name": "stdout",
     "output_type": "stream",
     "text": [
      "23-12-16 21:33:37 - Representations stored in ./db_rostos/representations_vgg_face.pkl file.Please delete this file when you add new identities in your database.\n",
      "23-12-16 21:33:37 - find function lasts 4.022372007369995 seconds\n"
     ]
    },
    {
     "name": "stderr",
     "output_type": "stream",
     "text": [
      "\n"
     ]
    }
   ],
   "source": [
    "result = DeepFace.find(img_path = \"./tests/im2.jpg\", db_path = \"./db_rostos\")"
   ]
  },
  {
   "cell_type": "markdown",
   "metadata": {},
   "source": [
    "É necessário excluir o arquivo representations_vgg_face.pkl quando adicionar uma pessoa na base de dados!"
   ]
  },
  {
   "cell_type": "code",
   "execution_count": 9,
   "metadata": {},
   "outputs": [
    {
     "name": "stderr",
     "output_type": "stream",
     "text": [
      "\n",
      "image 1/1 c:\\Users\\Eduardo\\Documents\\FaceRecognition_FeatureExtractor\\lacto.jpg: 640x480 4 Faces, 120.8ms\n",
      "Speed: 5.5ms preprocess, 120.8ms inference, 11.0ms postprocess per image at shape (1, 3, 640, 480)\n"
     ]
    }
   ],
   "source": [
    "from ultralytics import YOLO\n",
    "model = YOLO('runs/detect/train17/weights/best.pt')\n",
    "results = model.predict('lacto.jpg')\n",
    "box = results[0].boxes.xyxy.tolist()"
   ]
  },
  {
   "cell_type": "code",
   "execution_count": 15,
   "metadata": {},
   "outputs": [],
   "source": [
    "import cv2\n",
    "import numpy as np\n",
    "# image = cv2.imread(\"lacto.jpg\")\n",
    "def process_image(image):\n",
    "    for face in box:\n",
    "        try:\n",
    "            # Pontos XY\n",
    "            x0 = int(face[0])\n",
    "            y0 = int(face[1])\n",
    "            x1 = int(face[2])\n",
    "            y1 = int(face[3])\n",
    "\n",
    "            # Recorte do rosto\n",
    "            individual_face = image[y0:y1, x0:x1]\n",
    "\n",
    "            # Inicio e Fim do rosto\n",
    "            start_point = (x0, y0)\n",
    "            end_point = (x1, y1)\n",
    "\n",
    "            # Inicio e fim dos textos\n",
    "            start_space = (x0, y1)\n",
    "            end_space = (x1, y1+100)\n",
    "            \n",
    "            # Cor e espessura do retrato\n",
    "            color = (172, 52, 52)\n",
    "            thickness = 2\n",
    "\n",
    "            # Dados sobre o rosto\n",
    "            person = DeepFace.find(individual_face, db_path = \"./db_rostos\")\n",
    "            per = 'N/A' if len(person[0]) == 0 else person[0].identity[0].split('/')[2].split('.')[0]\n",
    "            res = DeepFace.analyze(individual_face)[0]\n",
    "\n",
    "            # Retrato na foto original e espaco para o texto\n",
    "            image = cv2.rectangle(image, start_point, end_point, color, thickness)\n",
    "            image = cv2.rectangle(image, start_space, end_space, color, -1) \n",
    "\n",
    "            # # Resultados do rosto encontrado\n",
    "            image = cv2.putText(image, f'Person: {per}', (x0+5, y1+18), cv2.FONT_HERSHEY_SIMPLEX,  \n",
    "                        0.7, (255, 255, 255), 1) \n",
    "            image = cv2.putText(image, f'Gender: {res[\"dominant_gender\"]}', (x0+5, y1+38), cv2.FONT_HERSHEY_SIMPLEX,  \n",
    "                        0.7, (255, 255, 255), 1) \n",
    "            image = cv2.putText(image, f'Age: {res[\"age\"]}', (x0+5, y1+58), cv2.FONT_HERSHEY_SIMPLEX,  \n",
    "                        0.7, (255, 255, 255), 1) \n",
    "            image = cv2.putText(image, f'Emotion: {res[\"dominant_emotion\"]}', (x0+5, y1+78), cv2.FONT_HERSHEY_SIMPLEX,  \n",
    "                        0.7, (255, 255, 255), 1) \n",
    "            image = cv2.putText(image, f'Race: {res[\"dominant_race\"]}', (x0+5, y1+98), cv2.FONT_HERSHEY_SIMPLEX,  \n",
    "                        0.7, (255, 255, 255), 1) \n",
    "            \n",
    "        except:\n",
    "            pass\n",
    "    return image\n",
    "    "
   ]
  },
  {
   "cell_type": "markdown",
   "metadata": {},
   "source": [
    "# Plataforma Web para uso do conhecimento"
   ]
  },
  {
   "cell_type": "code",
   "execution_count": null,
   "metadata": {},
   "outputs": [
    {
     "data": {
      "text/html": [
       "\n",
       "        <iframe\n",
       "            width=\"100%\"\n",
       "            height=\"650\"\n",
       "            src=\"http://127.0.0.1:8050/\"\n",
       "            frameborder=\"0\"\n",
       "            allowfullscreen\n",
       "            \n",
       "        ></iframe>\n",
       "        "
      ],
      "text/plain": [
       "<IPython.lib.display.IFrame at 0x26616927580>"
      ]
     },
     "metadata": {},
     "output_type": "display_data"
    },
    {
     "name": "stdout",
     "output_type": "stream",
     "text": [
      "23-12-16 21:41:36 - ⚠️ Representations for images in ./db_rostos folder were previously stored in representations_vgg_face.pkl. If you added new instances after the creation, then please delete this file and call find function again. It will create it again.\n",
      "23-12-16 21:41:36 - There are 2 representations found in representations_vgg_face.pkl\n",
      "23-12-16 21:41:36 - ⚠️ Representations for images in ./db_rostos folder were previously stored in representations_vgg_face.pkl. If you added new instances after the creation, then please delete this file and call find function again. It will create it again.\n",
      "23-12-16 21:41:36 - There are 2 representations found in representations_vgg_face.pkl\n",
      "23-12-16 21:41:36 - ⚠️ Representations for images in ./db_rostos folder were previously stored in representations_vgg_face.pkl. If you added new instances after the creation, then please delete this file and call find function again. It will create it again.\n",
      "23-12-16 21:41:36 - There are 2 representations found in representations_vgg_face.pkl\n",
      "23-12-16 21:41:36 - ⚠️ Representations for images in ./db_rostos folder were previously stored in representations_vgg_face.pkl. If you added new instances after the creation, then please delete this file and call find function again. It will create it again.\n",
      "23-12-16 21:41:36 - There are 2 representations found in representations_vgg_face.pkl\n",
      "[[[255 255 255]\n",
      "  [255 255 255]\n",
      "  [255 255 255]\n",
      "  ...\n",
      "  [255 255 255]\n",
      "  [255 255 255]\n",
      "  [255 255 255]]\n",
      "\n",
      " [[255 255 255]\n",
      "  [255 255 255]\n",
      "  [255 255 255]\n",
      "  ...\n",
      "  [255 255 255]\n",
      "  [255 255 255]\n",
      "  [255 255 255]]\n",
      "\n",
      " [[255 255 255]\n",
      "  [255 255 255]\n",
      "  [255 255 255]\n",
      "  ...\n",
      "  [255 255 255]\n",
      "  [255 255 255]\n",
      "  [255 255 255]]\n",
      "\n",
      " ...\n",
      "\n",
      " [[255 255 255]\n",
      "  [255 255 255]\n",
      "  [255 255 255]\n",
      "  ...\n",
      "  [255 255 255]\n",
      "  [255 255 255]\n",
      "  [255 255 255]]\n",
      "\n",
      " [[255 255 255]\n",
      "  [255 255 255]\n",
      "  [255 255 255]\n",
      "  ...\n",
      "  [255 255 255]\n",
      "  [255 255 255]\n",
      "  [255 255 255]]\n",
      "\n",
      " [[255 255 255]\n",
      "  [255 255 255]\n",
      "  [255 255 255]\n",
      "  ...\n",
      "  [255 255 255]\n",
      "  [255 255 255]\n",
      "  [255 255 255]]]\n",
      "23-12-16 21:41:44 - ⚠️ Representations for images in ./db_rostos folder were previously stored in representations_vgg_face.pkl. If you added new instances after the creation, then please delete this file and call find function again. It will create it again.\n",
      "23-12-16 21:41:44 - There are 2 representations found in representations_vgg_face.pkl\n",
      "23-12-16 21:41:44 - find function lasts 0.17402982711791992 seconds\n"
     ]
    },
    {
     "name": "stderr",
     "output_type": "stream",
     "text": [
      "Action: race: 100%|██████████| 4/4 [00:00<00:00,  8.14it/s]  \n"
     ]
    },
    {
     "name": "stdout",
     "output_type": "stream",
     "text": [
      "23-12-16 21:41:45 - ⚠️ Representations for images in ./db_rostos folder were previously stored in representations_vgg_face.pkl. If you added new instances after the creation, then please delete this file and call find function again. It will create it again.\n",
      "23-12-16 21:41:45 - There are 2 representations found in representations_vgg_face.pkl\n",
      "23-12-16 21:41:45 - ⚠️ Representations for images in ./db_rostos folder were previously stored in representations_vgg_face.pkl. If you added new instances after the creation, then please delete this file and call find function again. It will create it again.\n",
      "23-12-16 21:41:45 - There are 2 representations found in representations_vgg_face.pkl\n",
      "23-12-16 21:41:45 - find function lasts 0.17990875244140625 seconds\n"
     ]
    },
    {
     "name": "stderr",
     "output_type": "stream",
     "text": [
      "Action: race: 100%|██████████| 4/4 [00:00<00:00,  8.04it/s]  \n"
     ]
    },
    {
     "name": "stdout",
     "output_type": "stream",
     "text": [
      "23-12-16 21:41:46 - ⚠️ Representations for images in ./db_rostos folder were previously stored in representations_vgg_face.pkl. If you added new instances after the creation, then please delete this file and call find function again. It will create it again.\n",
      "23-12-16 21:41:46 - There are 2 representations found in representations_vgg_face.pkl\n",
      "23-12-16 21:41:46 - find function lasts 0.16997909545898438 seconds\n"
     ]
    },
    {
     "name": "stderr",
     "output_type": "stream",
     "text": [
      "Action: race: 100%|██████████| 4/4 [00:00<00:00,  7.75it/s]  \n"
     ]
    },
    {
     "name": "stdout",
     "output_type": "stream",
     "text": [
      "[[[ 69  69  61]\n",
      "  [ 70  70  62]\n",
      "  [ 71  71  63]\n",
      "  ...\n",
      "  [ 28  28  28]\n",
      "  [ 28  28  28]\n",
      "  [ 28  28  28]]\n",
      "\n",
      " [[ 69  69  61]\n",
      "  [ 70  70  62]\n",
      "  [ 71  71  63]\n",
      "  ...\n",
      "  [ 28  28  28]\n",
      "  [ 28  28  28]\n",
      "  [ 28  28  28]]\n",
      "\n",
      " [[ 69  69  61]\n",
      "  [ 69  69  61]\n",
      "  [ 71  71  63]\n",
      "  ...\n",
      "  [ 28  28  28]\n",
      "  [ 28  28  28]\n",
      "  [ 28  28  28]]\n",
      "\n",
      " ...\n",
      "\n",
      " [[ 75  76  60]\n",
      "  [ 73  74  58]\n",
      "  [ 79  80  64]\n",
      "  ...\n",
      "  [119 105 102]\n",
      "  [129 115 112]\n",
      "  [137 123 120]]\n",
      "\n",
      " [[ 72  70  55]\n",
      "  [ 70  68  53]\n",
      "  [ 78  76  61]\n",
      "  ...\n",
      "  [130 116 113]\n",
      "  [148 134 131]\n",
      "  [160 146 143]]\n",
      "\n",
      " [[ 70  68  53]\n",
      "  [ 67  65  50]\n",
      "  [ 71  69  54]\n",
      "  ...\n",
      "  [137 123 120]\n",
      "  [159 145 142]\n",
      "  [175 161 158]]]\n",
      "23-12-16 21:42:01 - ⚠️ Representations for images in ./db_rostos folder were previously stored in representations_vgg_face.pkl. If you added new instances after the creation, then please delete this file and call find function again. It will create it again.\n",
      "23-12-16 21:42:01 - There are 2 representations found in representations_vgg_face.pkl\n",
      "23-12-16 21:42:01 - ⚠️ Representations for images in ./db_rostos folder were previously stored in representations_vgg_face.pkl. If you added new instances after the creation, then please delete this file and call find function again. It will create it again.\n",
      "23-12-16 21:42:01 - There are 2 representations found in representations_vgg_face.pkl\n",
      "23-12-16 21:42:01 - ⚠️ Representations for images in ./db_rostos folder were previously stored in representations_vgg_face.pkl. If you added new instances after the creation, then please delete this file and call find function again. It will create it again.\n",
      "23-12-16 21:42:01 - There are 2 representations found in representations_vgg_face.pkl\n",
      "23-12-16 21:42:01 - ⚠️ Representations for images in ./db_rostos folder were previously stored in representations_vgg_face.pkl. If you added new instances after the creation, then please delete this file and call find function again. It will create it again.\n",
      "23-12-16 21:42:01 - There are 2 representations found in representations_vgg_face.pkl\n",
      "[[[118 119 114]\n",
      "  [116 117 112]\n",
      "  [113 114 109]\n",
      "  ...\n",
      "  [ 71  68  63]\n",
      "  [ 71  68  63]\n",
      "  [ 71  68  63]]\n",
      "\n",
      " [[118 119 114]\n",
      "  [116 117 112]\n",
      "  [113 114 109]\n",
      "  ...\n",
      "  [ 69  66  61]\n",
      "  [ 69  66  61]\n",
      "  [ 69  66  61]]\n",
      "\n",
      " [[117 118 113]\n",
      "  [116 117 112]\n",
      "  [114 115 110]\n",
      "  ...\n",
      "  [ 67  64  59]\n",
      "  [ 66  63  58]\n",
      "  [ 66  63  58]]\n",
      "\n",
      " ...\n",
      "\n",
      " [[ 29  35  35]\n",
      "  [ 28  34  34]\n",
      "  [ 27  33  33]\n",
      "  ...\n",
      "  [ 30  23  17]\n",
      "  [ 33  26  20]\n",
      "  [ 34  27  21]]\n",
      "\n",
      " [[ 17  23  23]\n",
      "  [ 17  23  23]\n",
      "  [ 19  25  25]\n",
      "  ...\n",
      "  [ 30  23  17]\n",
      "  [ 33  26  20]\n",
      "  [ 35  28  22]]\n",
      "\n",
      " [[  8  14  14]\n",
      "  [  9  15  15]\n",
      "  [ 13  19  19]\n",
      "  ...\n",
      "  [ 29  22  16]\n",
      "  [ 32  25  19]\n",
      "  [ 34  27  21]]]\n",
      "23-12-16 21:43:01 - ⚠️ Representations for images in ./db_rostos folder were previously stored in representations_vgg_face.pkl. If you added new instances after the creation, then please delete this file and call find function again. It will create it again.\n",
      "23-12-16 21:43:01 - There are 2 representations found in representations_vgg_face.pkl\n",
      "23-12-16 21:43:01 - find function lasts 0.19094085693359375 seconds\n"
     ]
    },
    {
     "name": "stderr",
     "output_type": "stream",
     "text": [
      "Action: race: 100%|██████████| 4/4 [00:00<00:00,  7.34it/s]  \n"
     ]
    },
    {
     "name": "stdout",
     "output_type": "stream",
     "text": [
      "23-12-16 21:43:01 - ⚠️ Representations for images in ./db_rostos folder were previously stored in representations_vgg_face.pkl. If you added new instances after the creation, then please delete this file and call find function again. It will create it again.\n",
      "23-12-16 21:43:01 - There are 2 representations found in representations_vgg_face.pkl\n",
      "23-12-16 21:43:01 - ⚠️ Representations for images in ./db_rostos folder were previously stored in representations_vgg_face.pkl. If you added new instances after the creation, then please delete this file and call find function again. It will create it again.\n",
      "23-12-16 21:43:01 - There are 2 representations found in representations_vgg_face.pkl\n",
      "23-12-16 21:43:01 - find function lasts 0.17154502868652344 seconds\n"
     ]
    },
    {
     "name": "stderr",
     "output_type": "stream",
     "text": [
      "Action: race: 100%|██████████| 4/4 [00:00<00:00,  7.84it/s]  \n"
     ]
    },
    {
     "name": "stdout",
     "output_type": "stream",
     "text": [
      "23-12-16 21:43:02 - ⚠️ Representations for images in ./db_rostos folder were previously stored in representations_vgg_face.pkl. If you added new instances after the creation, then please delete this file and call find function again. It will create it again.\n",
      "23-12-16 21:43:02 - There are 2 representations found in representations_vgg_face.pkl\n",
      "23-12-16 21:43:02 - find function lasts 0.17554688453674316 seconds\n"
     ]
    },
    {
     "name": "stderr",
     "output_type": "stream",
     "text": [
      "Action: race: 100%|██████████| 4/4 [00:00<00:00,  7.56it/s]  \n"
     ]
    },
    {
     "name": "stdout",
     "output_type": "stream",
     "text": [
      "[[[ 69  69  61]\n",
      "  [ 70  70  62]\n",
      "  [ 71  71  63]\n",
      "  ...\n",
      "  [ 28  28  28]\n",
      "  [ 28  28  28]\n",
      "  [ 28  28  28]]\n",
      "\n",
      " [[ 69  69  61]\n",
      "  [ 70  70  62]\n",
      "  [ 71  71  63]\n",
      "  ...\n",
      "  [ 28  28  28]\n",
      "  [ 28  28  28]\n",
      "  [ 28  28  28]]\n",
      "\n",
      " [[ 69  69  61]\n",
      "  [ 69  69  61]\n",
      "  [ 71  71  63]\n",
      "  ...\n",
      "  [ 28  28  28]\n",
      "  [ 28  28  28]\n",
      "  [ 28  28  28]]\n",
      "\n",
      " ...\n",
      "\n",
      " [[ 75  76  60]\n",
      "  [ 73  74  58]\n",
      "  [ 79  80  64]\n",
      "  ...\n",
      "  [119 105 102]\n",
      "  [129 115 112]\n",
      "  [137 123 120]]\n",
      "\n",
      " [[ 72  70  55]\n",
      "  [ 70  68  53]\n",
      "  [ 78  76  61]\n",
      "  ...\n",
      "  [130 116 113]\n",
      "  [148 134 131]\n",
      "  [160 146 143]]\n",
      "\n",
      " [[ 70  68  53]\n",
      "  [ 67  65  50]\n",
      "  [ 71  69  54]\n",
      "  ...\n",
      "  [137 123 120]\n",
      "  [159 145 142]\n",
      "  [175 161 158]]]\n"
     ]
    }
   ],
   "source": [
    "import dash\n",
    "import numpy as np\n",
    "import dash_html_components as html\n",
    "from dash_canvas import DashCanvas\n",
    "from dash import dcc\n",
    "from dash.dependencies import Input, Output, State\n",
    "from dash_canvas.utils import array_to_data_url, image_string_to_PILImage\n",
    "\n",
    "app = dash.Dash(__name__)\n",
    "\n",
    "canvas_width = 650\n",
    "\n",
    "app.layout = html.Div([\n",
    "    html.H2('Reconhecimento facial e análise de características', style={'text-align':'center'}),\n",
    "\n",
    "\n",
    "    dcc.Upload(\n",
    "        id='upload-image',\n",
    "        children=html.Div([\n",
    "            'Arraste e solte ou ',\n",
    "            html.A('selecione uma imagem para analisar')\n",
    "        ]),\n",
    "        style={\n",
    "            'width': '99%',\n",
    "            'height': '60px',\n",
    "            'lineHeight': '60px',\n",
    "            'borderWidth': '1px',\n",
    "            'borderStyle': 'dashed',\n",
    "            'borderRadius': '5px',\n",
    "            'textAlign': 'center',\n",
    "            'margin': '10px'\n",
    "        },\n",
    "        # Allow multiple files to be uploaded\n",
    "        multiple=True\n",
    "    ),\n",
    "    html.Div(id='output-image-upload',style={'width': '100%', 'display': 'flex', 'align-items':'center', 'justify-content':'center'})\n",
    "])\n",
    "\n",
    "\n",
    "def parse_contents(contents, filename, date):\n",
    "    img = image_string_to_PILImage(contents)\n",
    "    img.save('img.jpg')\n",
    "    img = cv2.imread(\"img.jpg\")\n",
    "    img = cv2.cvtColor(img, cv2.COLOR_BGR2RGB)\n",
    "    img = process_image(img)\n",
    "    pix = np.array(img)\n",
    "    print(pix)\n",
    "    img_content = array_to_data_url(pix)\n",
    "    return html.Div([DashCanvas(id='canvaas_image',\n",
    "                                image_content=img_content,\n",
    "                                lineWidth=5,\n",
    "                                lineColor='red',\n",
    "                                width=canvas_width)])\n",
    "\n",
    "\n",
    "@app.callback(Output('output-image-upload', 'children'),\n",
    "              Input('upload-image', 'contents'),\n",
    "              State('upload-image', 'filename'),\n",
    "              State('upload-image', 'last_modified'))\n",
    "def update_output(list_of_contents, list_of_names, list_of_dates):\n",
    "    if list_of_contents is not None:\n",
    "        children = [\n",
    "            parse_contents(c, n, d) for c, n, d in\n",
    "            zip(list_of_contents, list_of_names, list_of_dates)]\n",
    "        return children\n",
    "\n",
    "\n",
    "if __name__ == '__main__':\n",
    "    app.run_server(debug=True)"
   ]
  }
 ],
 "metadata": {
  "kernelspec": {
   "display_name": "Python 3",
   "language": "python",
   "name": "python3"
  },
  "language_info": {
   "codemirror_mode": {
    "name": "ipython",
    "version": 3
   },
   "file_extension": ".py",
   "mimetype": "text/x-python",
   "name": "python",
   "nbconvert_exporter": "python",
   "pygments_lexer": "ipython3",
   "version": "3.10.11"
  }
 },
 "nbformat": 4,
 "nbformat_minor": 2
}
