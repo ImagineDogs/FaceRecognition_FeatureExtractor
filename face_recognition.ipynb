{
 "cells": [
  {
   "cell_type": "code",
   "execution_count": 4,
   "metadata": {},
   "outputs": [
    {
     "name": "stdout",
     "output_type": "stream",
     "text": [
      "Downloading data from https://storage.googleapis.com/tensorflow/keras-applications/vgg19/vgg19_weights_tf_dim_ordering_tf_kernels.h5\n",
      "574710816/574710816 [==============================] - 27s 0us/step\n"
     ]
    }
   ],
   "source": [
    "import tensorflow as tf\n",
    "model = tf.keras.applications.vgg19.VGG19()"
   ]
  },
  {
   "cell_type": "code",
   "execution_count": 5,
   "metadata": {},
   "outputs": [],
   "source": [
    "model.save('pesos.keras')"
   ]
  },
  {
   "cell_type": "code",
   "execution_count": 6,
   "metadata": {},
   "outputs": [
    {
     "data": {
      "text/plain": [
       "[<keras.src.engine.input_layer.InputLayer at 0x209a847eb10>,\n",
       " <keras.src.layers.convolutional.conv2d.Conv2D at 0x209a97d9550>,\n",
       " <keras.src.layers.convolutional.conv2d.Conv2D at 0x209a8691950>,\n",
       " <keras.src.layers.pooling.max_pooling2d.MaxPooling2D at 0x209a8494a10>,\n",
       " <keras.src.layers.convolutional.conv2d.Conv2D at 0x209a868d950>,\n",
       " <keras.src.layers.convolutional.conv2d.Conv2D at 0x209a9b63050>,\n",
       " <keras.src.layers.pooling.max_pooling2d.MaxPooling2D at 0x209a867fe10>,\n",
       " <keras.src.layers.convolutional.conv2d.Conv2D at 0x209a8c243d0>,\n",
       " <keras.src.layers.convolutional.conv2d.Conv2D at 0x209a867fdd0>,\n",
       " <keras.src.layers.convolutional.conv2d.Conv2D at 0x209a99e5f10>,\n",
       " <keras.src.layers.convolutional.conv2d.Conv2D at 0x209a8515190>,\n",
       " <keras.src.layers.pooling.max_pooling2d.MaxPooling2D at 0x209a9bde0d0>,\n",
       " <keras.src.layers.convolutional.conv2d.Conv2D at 0x209a8495990>,\n",
       " <keras.src.layers.convolutional.conv2d.Conv2D at 0x209a9bdcf50>,\n",
       " <keras.src.layers.convolutional.conv2d.Conv2D at 0x209a9bdeed0>,\n",
       " <keras.src.layers.convolutional.conv2d.Conv2D at 0x209a9bd5d10>,\n",
       " <keras.src.layers.pooling.max_pooling2d.MaxPooling2D at 0x209a9a11450>,\n",
       " <keras.src.layers.convolutional.conv2d.Conv2D at 0x209a99e60d0>,\n",
       " <keras.src.layers.convolutional.conv2d.Conv2D at 0x209a9b55c50>,\n",
       " <keras.src.layers.convolutional.conv2d.Conv2D at 0x209a8508250>,\n",
       " <keras.src.layers.convolutional.conv2d.Conv2D at 0x209a9b69590>,\n",
       " <keras.src.layers.pooling.max_pooling2d.MaxPooling2D at 0x209a850a750>,\n",
       " <keras.src.layers.reshaping.flatten.Flatten at 0x209a868a110>,\n",
       " <keras.src.layers.core.dense.Dense at 0x209a9bde750>,\n",
       " <keras.src.layers.core.dense.Dense at 0x209a85314d0>,\n",
       " <keras.src.layers.core.dense.Dense at 0x209a99e5f90>]"
      ]
     },
     "execution_count": 6,
     "metadata": {},
     "output_type": "execute_result"
    }
   ],
   "source": [
    "model.load_weights"
   ]
  },
  {
   "cell_type": "code",
   "execution_count": 9,
   "metadata": {},
   "outputs": [],
   "source": [
    "model = tf.keras.Sequential(model)"
   ]
  },
  {
   "cell_type": "code",
   "execution_count": 10,
   "metadata": {},
   "outputs": [],
   "source": [
    "model.pop()"
   ]
  },
  {
   "cell_type": "code",
   "execution_count": 14,
   "metadata": {},
   "outputs": [
    {
     "data": {
      "text/plain": [
       "<bound method Model.summary of <keras.src.engine.sequential.Sequential object at 0x00000209AA223FD0>>"
      ]
     },
     "execution_count": 14,
     "metadata": {},
     "output_type": "execute_result"
    }
   ],
   "source": [
    "model.summary"
   ]
  }
 ],
 "metadata": {
  "kernelspec": {
   "display_name": "Python 3",
   "language": "python",
   "name": "python3"
  },
  "language_info": {
   "codemirror_mode": {
    "name": "ipython",
    "version": 3
   },
   "file_extension": ".py",
   "mimetype": "text/x-python",
   "name": "python",
   "nbconvert_exporter": "python",
   "pygments_lexer": "ipython3",
   "version": "3.11.5"
  }
 },
 "nbformat": 4,
 "nbformat_minor": 2
}
